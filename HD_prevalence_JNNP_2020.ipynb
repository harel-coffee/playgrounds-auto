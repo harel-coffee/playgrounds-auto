{
 "cells": [
  {
   "cell_type": "code",
   "execution_count": 1,
   "metadata": {},
   "outputs": [],
   "source": [
    "import numpy as np\n",
    "import pandas as pd\n",
    "import matplotlib.pyplot as plt\n",
    "from sklearn.linear_model import LinearRegression\n",
    "from traitlets import traitlets\n",
    "from IPython.display import display, Markdown\n",
    "from ipywidgets import HBox, VBox, BoundedFloatText, BoundedIntText, Text, Layout, Button"
   ]
  },
  {
   "cell_type": "markdown",
   "metadata": {},
   "source": [
    "# Setting up model variables"
   ]
  },
  {
   "cell_type": "markdown",
   "metadata": {},
   "source": [
    "This piece of analysis is based on a few demographic data:<br/>\n",
    "* The average HD incidence rate in the world (**0.38** per 100,000 per year) [https://doi.org/10.1002/mds.25075]\n",
    "* The actual HD incidence rate in Muscat (Oman) (**0.56** per 100,000 per year [2013-2018])\n",
    "* The HD death rate registered in England-Wales in 1960-1973 (**1.55** per million population) [https://pubmed.ncbi.nlm.nih.gov/6233902/]\n",
    "* The actual HD death rate in Muscat (Oman) (**1.82** per million population [2013-2018])"
   ]
  },
  {
   "cell_type": "code",
   "execution_count": 32,
   "metadata": {},
   "outputs": [
    {
     "data": {
      "application/vnd.jupyter.widget-view+json": {
       "model_id": "c3eb71e9b28246d2a89d241cacbb432d",
       "version_major": 2,
       "version_minor": 0
      },
      "text/plain": [
       "HBox(children=(VBox(children=(BoundedFloatText(value=0.38, description='Incidence rate (world per 100.000):', …"
      ]
     },
     "metadata": {},
     "output_type": "display_data"
    }
   ],
   "source": [
    "style = {'description_width': 'initial'}\n",
    "\n",
    "# estimated incidence rate world-wide (0.38 per 100,000 per year) [https://doi.org/10.1002/mds.25075]\n",
    "est_inc_rate_text = BoundedFloatText(\n",
    "    min=0.25,\n",
    "    max=0.45,\n",
    "    step=0.05,\n",
    "    value=0.38,\n",
    "    description='Incidence rate (world per 100.000):', style=style)\n",
    "\n",
    "# actual incidence rate (0.56 per 100,000 per year) ~ 3 new HD patients in Muscat in 2018 [https://data.gov.om/OMPOP2016/population?indicator=1000140&region=1000020-muscat&nationality=1000010-omani]\n",
    "act_inc_rate_text = BoundedFloatText(\n",
    "    min=0.45,\n",
    "    max=0.65,\n",
    "    step=0.05,\n",
    "    value=0.56,\n",
    "    description='Incidence rate (oman per 100.000):', style=style)\n",
    "\n",
    "# estimated death rate as for England-Wales in 1960-1973 were 1.55 per million population\n",
    "# http://europepmc.org/backend/ptpmcrender.fcgi?accid=PMC1684448&blobtype=pdf\n",
    "est_death_rate_text = BoundedFloatText(\n",
    "    description='Death rate (world per 100.000):', \n",
    "    style=style,\n",
    "    min=0.12,\n",
    "    max=0.18,\n",
    "    step=0.005,\n",
    "    value=0.155\n",
    ")\n",
    "\n",
    "# actual death rate ~ 1 patient in 2018 per 100.000 per year in Muscat\n",
    "act_death_rate_text = BoundedFloatText(\n",
    "    min=0.16,\n",
    "    max=0.2,\n",
    "    step=0.01,\n",
    "    value=0.1819,\n",
    "    description='Death rate (oman per 100.000):', style=style)\n",
    "\n",
    "# starting HD population in Muscat in 2014 (32)\n",
    "hd_2014_text = BoundedIntText(\n",
    "    min=0,\n",
    "    max=1000,\n",
    "    step=1,\n",
    "    value=32,\n",
    "    description='HD population in Muscat in 2014:', style=style,\n",
    "    layout=Layout(height='50px'))\n",
    "\n",
    "simulation_end_text = BoundedIntText(\n",
    "    min=2015,\n",
    "    max=2100,\n",
    "    step=1,\n",
    "    value=2050,\n",
    "    description='Simulate from 2014 until:', style=style)\n",
    "\n",
    "class GenerateTimeButton(Button):\n",
    "    \"\"\"A button that can holds a value as a attribute.\"\"\"\n",
    "\n",
    "    def __init__(self, value=None, *args, **kwargs):\n",
    "        super(GenerateTimeButton, self).__init__(*args, **kwargs)\n",
    "        # Create the value attribute.\n",
    "        self.add_traits(value=traitlets.Any(value))\n",
    "        \n",
    "# Generate time period (list of years) to be simulated\n",
    "def on_generate_time_button_clicked(x_new):\n",
    "    x_new.value = np.arange(2014, simulation_end_text.value+1, 1).reshape((-1, 1))\n",
    "    print(\"Simulation time points generated\")\n",
    "\n",
    "generate_time_button = GenerateTimeButton(\n",
    "    description=\"Generate\",\n",
    "    button_style='info',\n",
    "    tooltip='Generate simulation time points'\n",
    ")\n",
    "generate_time_button.on_click(on_generate_time_button_clicked)\n",
    "\n",
    "hbox_time = HBox([simulation_end_text, generate_time_button])\n",
    "left_box = VBox([est_inc_rate_text, act_inc_rate_text, hd_2014_text, hbox_time])\n",
    "right_box = VBox([est_death_rate_text, act_death_rate_text])\n",
    "hbox = HBox([left_box, right_box])\n",
    "\n",
    "display(hbox)"
   ]
  },
  {
   "cell_type": "markdown",
   "metadata": {},
   "source": [
    "# Load demographic data"
   ]
  },
  {
   "cell_type": "markdown",
   "metadata": {},
   "source": [
    "Demographic data must be formatted in a file with two columns.<br>\n",
    "The __first__ column must contain _years_.<br>\n",
    "The __second__ column, which must be named *Population*, must contain integer numbers, which are the total populations in Muscat per year"
   ]
  },
  {
   "cell_type": "code",
   "execution_count": 37,
   "metadata": {},
   "outputs": [
    {
     "name": "stdout",
     "output_type": "stream",
     "text": [
      "      Population\n",
      "Year            \n",
      "2010      407006\n",
      "2011      418652\n",
      "2012      435149\n",
      "2013      451652\n",
      "2014      470085\n",
      "2015      487592\n",
      "2016      512039\n",
      "2017      528327\n",
      "2018      543930\n"
     ]
    }
   ],
   "source": [
    "demo_file = \"./data/JNNP_2020/Epidemiology_Oman.txt\"\n",
    "df = pd.read_csv(demo_file, sep='\\t', index_col=0)\n",
    "print(df)\n",
    "\n",
    "x_new = generate_time_button.value"
   ]
  },
  {
   "cell_type": "markdown",
   "metadata": {
    "variables": {
     "simulation_end_text.value": "2050"
    }
   },
   "source": [
    "# Predict population until {{simulation_end_text.value}}"
   ]
  },
  {
   "cell_type": "code",
   "execution_count": 20,
   "metadata": {},
   "outputs": [
    {
     "name": "stdout",
     "output_type": "stream",
     "text": [
      "coefficient of determination: 0.996\n",
      "intercept: -35324154.9\n",
      "slope: [17774.017]\n",
      "\n",
      "time:\t\t\t\t[2010 2011 2012 2013 2014 2015 2016 2017 2018]\n",
      "predicted response:\t\t[401619. 419393. 437167. 454941. 472715. 490489. 508263. 526037. 543811.]\n",
      "predicted response [2019]\t579359.0\n",
      "actual data [2019]:\t\t567851\n"
     ]
    },
    {
     "data": {
      "image/png": "[encoded data removed]",
      "text/plain": [
       "<Figure size 432x288 with 1 Axes>"
      ]
     },
     "metadata": {
      "needs_background": "light"
     },
     "output_type": "display_data"
    }
   ],
   "source": [
    "%matplotlib inline\n",
    "\n",
    "x = df.index.values.reshape((-1, 1))\n",
    "y = df.Population\n",
    "model = LinearRegression().fit(x, y)\n",
    "\n",
    "r_sq = model.score(x, y)\n",
    "print('coefficient of determination:', np.round(r_sq, 3))\n",
    "print('intercept:', np.round(model.intercept_, 3))\n",
    "print('slope:', np.round(model.coef_, 3))\n",
    "print('')\n",
    "\n",
    "# Predict response of known data\n",
    "y_pred = model.predict(x)\n",
    "print('time:', np.transpose(x)[0], sep='\\t\\t\\t\\t')\n",
    "print('predicted response:', np.around(y_pred), sep='\\t\\t')\n",
    "\n",
    "# Plot outputs\n",
    "axis_scale = 1e5\n",
    "plt.scatter(x, y/axis_scale,  color='black', label=\"act. population\")\n",
    "plt.plot(x, y_pred/axis_scale, color='blue',\n",
    "         linewidth=3, label=\"Interpolation\")\n",
    "\n",
    "plt.title('Actual vs Predicted')\n",
    "plt.xlabel('years')\n",
    "plt.ylabel('population growth (1e5)')\n",
    "\n",
    "plt.legend(loc='upper left')\n",
    "\n",
    "# Predict response of future data [2019]\n",
    "y_pred = np.round(model.predict(x_new))\n",
    "print('predicted response [2019]', y_pred[6], sep='\\t')\n",
    "print('actual data [2019]:\\t\\t{}'.format(567851))"
   ]
  },
  {
   "cell_type": "markdown",
   "metadata": {},
   "source": [
    "### Set the number of simulation traces"
   ]
  },
  {
   "cell_type": "code",
   "execution_count": 21,
   "metadata": {},
   "outputs": [
    {
     "data": {
      "application/vnd.jupyter.widget-view+json": {
       "model_id": "18b7b3034da54a2eb451731e261ba78c",
       "version_major": 2,
       "version_minor": 0
      },
      "text/plain": [
       "BoundedIntText(value=1000, description='Simulation traces:', max=5000, min=1, style=DescriptionStyle(descripti…"
      ]
     },
     "metadata": {},
     "output_type": "display_data"
    }
   ],
   "source": [
    "simulation_traces = BoundedIntText(\n",
    "    min=1,\n",
    "    max=5000,\n",
    "    step=1,\n",
    "    value=1000,\n",
    "    description='Simulation traces:', style=style)\n",
    "display(simulation_traces)"
   ]
  },
  {
   "cell_type": "markdown",
   "metadata": {},
   "source": [
    "### Initialize state vectors"
   ]
  },
  {
   "cell_type": "code",
   "execution_count": 22,
   "metadata": {},
   "outputs": [],
   "source": [
    "sim_time = len(x_new)\n",
    "\n",
    "# simulation traces\n",
    "num_traces = simulation_traces.value\n",
    "\n",
    "# est_inc = np.zeros(sim_time)\n",
    "est_inc = np.zeros((num_traces, sim_time), dtype=int)\n",
    "act_inc = np.zeros((num_traces, sim_time), dtype=int)\n",
    "\n",
    "est_death = np.zeros((num_traces, sim_time), dtype=int)\n",
    "act_death = np.zeros((num_traces, sim_time), dtype=int)\n",
    "\n",
    "est_alive_HD = np.zeros((num_traces, sim_time), dtype=int)\n",
    "est_alive_HD[:, 0] = hd_2014_text.value\n",
    "act_alive_HD = np.zeros((num_traces, sim_time), dtype=int)\n",
    "act_alive_HD[:, 0] = hd_2014_text.value"
   ]
  },
  {
   "cell_type": "markdown",
   "metadata": {},
   "source": [
    "### Trigger the Markov Chain simulation"
   ]
  },
  {
   "cell_type": "code",
   "execution_count": 23,
   "metadata": {},
   "outputs": [],
   "source": [
    "for rep in range(num_traces):\n",
    "    for t in range(sim_time-1):\n",
    "        curr_pop = y_pred[t]\n",
    "\n",
    "        est_inc[rep, t] = np.random.poisson(\n",
    "            (est_inc_rate_text.value * curr_pop)/100000)\n",
    "        act_inc[rep, t] = np.random.poisson(\n",
    "            (act_inc_rate_text.value * curr_pop)/100000)\n",
    "\n",
    "        est_death[rep, t] = np.random.poisson(\n",
    "            (est_death_rate_text.value * curr_pop)/100000)\n",
    "        act_death[rep, t] = np.random.poisson(\n",
    "            (act_death_rate_text.value * curr_pop)/100000)\n",
    "\n",
    "        est_alive_HD[rep, t+1] = est_alive_HD[rep, t] - \\\n",
    "            est_death[rep, t] + est_inc[rep, t]\n",
    "        act_alive_HD[rep, t+1] = act_alive_HD[rep, t] - \\\n",
    "            act_death[rep, t] + act_inc[rep, t]"
   ]
  },
  {
   "cell_type": "markdown",
   "metadata": {},
   "source": [
    "### Plot HD population predicted to be alive in Muscat"
   ]
  },
  {
   "cell_type": "markdown",
   "metadata": {},
   "source": [
    "N.b., __est. HD population__ accounts for the population that is predicted to be alive every year according to *incidence* and *death* rates that are the world average. __act. HD population__ refers instead to actual rates calculated stright on the actual Muscat population records."
   ]
  },
  {
   "cell_type": "code",
   "execution_count": 24,
   "metadata": {},
   "outputs": [
    {
     "data": {
      "application/vnd.jupyter.widget-view+json": {
       "model_id": "c534c2778ee6418f9acf482fcb93f519",
       "version_major": 2,
       "version_minor": 0
      },
      "text/plain": [
       "Button(button_style='info', description='Save SVG', style=ButtonStyle(), tooltip='Save to SVG file')"
      ]
     },
     "metadata": {},
     "output_type": "display_data"
    },
    {
     "data": {
      "image/png": "[encoded data removed]",
      "text/plain": [
       "<Figure size 576x288 with 1 Axes>"
      ]
     },
     "metadata": {
      "needs_background": "light"
     },
     "output_type": "display_data"
    }
   ],
   "source": [
    "# Select a random trace\n",
    "rtrace = np.random.randint(0,num_traces)\n",
    "\n",
    "# Plot a random trace of est/act. alive HD cases in Muscat area\n",
    "fig, ax = plt.subplots(1, 1, figsize=(8, 4))\n",
    "ax.plot(x_new, est_alive_HD[rtrace, :], lw=2, label='est. HD population')\n",
    "ax.plot(x_new, act_alive_HD[rtrace, :], lw=2, label='act. HD population')\n",
    "ax.legend(loc='upper left')\n",
    "\n",
    "def on_save_alive_pop_button(but):\n",
    "    fig.savefig('alive_population.svg', format='svg', dpi=1200)\n",
    "    print('Figure saved')\n",
    "\n",
    "save_alive_button = Button(\n",
    "    description=\"Save SVG\",\n",
    "    button_style='info',\n",
    "    tooltip='Save to SVG file'\n",
    ")\n",
    "save_alive_button.on_click(on_save_alive_pop_button)\n",
    "display(save_alive_button)"
   ]
  },
  {
   "cell_type": "markdown",
   "metadata": {
    "variables": {
     "simulation_end_text.value": "2050"
    }
   },
   "source": [
    "# Calculate prevalence until {{simulation_end_text.value}}"
   ]
  },
  {
   "cell_type": "code",
   "execution_count": 25,
   "metadata": {},
   "outputs": [
    {
     "name": "stdout",
     "output_type": "stream",
     "text": [
      "[[ 6.77  6.73  7.28 ... 16.25 16.72 16.45]\n",
      " [ 6.77  7.14  7.28 ... 13.37 13.88 14.56]\n",
      " [ 6.77  7.14  7.08 ... 13.09 13.7  13.39]\n",
      " ...\n",
      " [ 6.77  7.14  7.87 ... 16.9  17.63 18.16]\n",
      " [ 6.77  6.93  7.28 ... 15.13 14.8  14.65]\n",
      " [ 6.77  7.14  7.48 ... 12.63 12.51 12.76]]\n"
     ]
    }
   ],
   "source": [
    "# Calculate prevalence until 2050\n",
    "prev_HD = np.round((act_alive_HD / y_pred)*1e5, 2)\n",
    "print(prev_HD)"
   ]
  },
  {
   "cell_type": "markdown",
   "metadata": {},
   "source": [
    "### Plot the actual HD prevalence in the Muscat area"
   ]
  },
  {
   "cell_type": "code",
   "execution_count": 26,
   "metadata": {},
   "outputs": [
    {
     "data": {
      "application/vnd.jupyter.widget-view+json": {
       "model_id": "6450ffa696dd41208d314b8747d90100",
       "version_major": 2,
       "version_minor": 0
      },
      "text/plain": [
       "Button(button_style='info', description='Save SVG', style=ButtonStyle(), tooltip='Save to SVG file')"
      ]
     },
     "metadata": {},
     "output_type": "display_data"
    },
    {
     "data": {
      "image/png": "[encoded data removed]",
      "text/plain": [
       "<Figure size 180x180 with 1 Axes>"
      ]
     },
     "metadata": {
      "needs_background": "light"
     },
     "output_type": "display_data"
    }
   ],
   "source": [
    "# calculate average and standard deviation of prevalence data over all traces\n",
    "mu = prev_HD.mean(axis=0)\n",
    "sigma = prev_HD.std(axis=0)\n",
    "\n",
    "# instantiate and configure the final plot\n",
    "fig, ax = plt.subplots(1, 1, figsize=(2.5, 2.5))\n",
    "ax.plot(x_new, prev_HD.mean(axis=0), lw=2, label='mean HD prevalence')\n",
    "ax.legend(loc='upper left')\n",
    "ax.set_xticks([2015, 2025, 2035, 2045], minor=True)\n",
    "ax.fill_between(x_new.flatten(), mu+sigma, mu-sigma, facecolor='blue', alpha=0.2)\n",
    "# plt.rcParams.update({'font.size': 10})\n",
    "\n",
    "def on_save_prevalence_button(but):\n",
    "    fig.savefig('act_prevalence.svg', format='svg', dpi=1200)\n",
    "    print('Figure saved')\n",
    "\n",
    "save_prevalence_button = Button(\n",
    "    description=\"Save SVG\",\n",
    "    button_style='info',\n",
    "    tooltip='Save to SVG file'\n",
    ")\n",
    "save_prevalence_button.on_click(on_save_prevalence_button)\n",
    "display(save_prevalence_button)"
   ]
  },
  {
   "cell_type": "markdown",
   "metadata": {},
   "source": [
    "### Generate a prevalence table"
   ]
  },
  {
   "cell_type": "code",
   "execution_count": 27,
   "metadata": {},
   "outputs": [
    {
     "name": "stdout",
     "output_type": "stream",
     "text": [
      "   Years  Prevalence\n",
      "0   2014     6.77000\n",
      "1   2015     6.99181\n",
      "2   2016     7.19641\n",
      "3   2017     7.41520\n",
      "4   2018     7.65097\n"
     ]
    },
    {
     "data": {
      "application/vnd.jupyter.widget-view+json": {
       "model_id": "b1cf5918add74f1ab41cd29dbdd6dac0",
       "version_major": 2,
       "version_minor": 0
      },
      "text/plain": [
       "Button(button_style='info', description='Save XLSX', style=ButtonStyle(), tooltip='Save to Excel file')"
      ]
     },
     "metadata": {},
     "output_type": "display_data"
    }
   ],
   "source": [
    "prev_df = pd.DataFrame({'Years':x_new.flatten(), 'Prevalence':mu})\n",
    "print(prev_df.head())\n",
    "\n",
    "def on_save_prevalence_table_button(but):\n",
    "    prev_df.to_excel(\"prevalence_table.xlsx\", index=False)  \n",
    "    print('Figure saved')\n",
    "\n",
    "save_prevalence_table_button = Button(\n",
    "    description=\"Save XLSX\",\n",
    "    button_style='info',\n",
    "    tooltip='Save to Excel file'\n",
    ")\n",
    "save_prevalence_table_button.on_click(on_save_prevalence_table_button)\n",
    "display(save_prevalence_table_button)"
   ]
  },
  {
   "cell_type": "markdown",
   "metadata": {},
   "source": [
    "# Print system and required packages information"
   ]
  },
  {
   "cell_type": "code",
   "execution_count": 14,
   "metadata": {},
   "outputs": [
    {
     "name": "stdout",
     "output_type": "stream",
     "text": [
      "CPython 3.7.6\n",
      "IPython 7.12.0\n",
      "\n",
      "numpy 1.18.1\n",
      "pandas 1.0.1\n",
      "matplotlib 3.1.3\n",
      "sklearn 0.22.1\n",
      "traitlets 4.3.3\n",
      "IPython 7.12.0\n",
      "ipywidgets 7.5.1\n",
      "\n",
      "compiler   : MSC v.1916 64 bit (AMD64)\n",
      "system     : Windows\n",
      "release    : 10\n",
      "machine    : AMD64\n",
      "processor  : Intel64 Family 6 Model 60 Stepping 3, GenuineIntel\n",
      "CPU cores  : 8\n",
      "interpreter: 64bit\n",
      " \n",
      "last updated: Sat Mar 07 2020 08:50:16 W. Europe Standard Time\n"
     ]
    }
   ],
   "source": [
    "%load_ext watermark\n",
    "%watermark -v -m -p numpy,pandas,matplotlib,sklearn,traitlets,IPython,ipywidgets\n",
    "\n",
    "# date\n",
    "print(\" \")\n",
    "%watermark -u -n -t -z"
   ]
  }
 ],
 "metadata": {
  "kernelspec": {
   "display_name": "Python 3",
   "language": "python",
   "name": "python3"
  },
  "language_info": {
   "codemirror_mode": {
    "name": "ipython",
    "version": 3
   },
   "file_extension": ".py",
   "mimetype": "text/x-python",
   "name": "python",
   "nbconvert_exporter": "python",
   "pygments_lexer": "ipython3",
   "version": "3.7.6"
  }
 },
 "nbformat": 4,
 "nbformat_minor": 2
}
