{
  "nbformat": 4,
  "nbformat_minor": 0,
  "metadata": {
    "colab": {
      "provenance": []
    },
    "kernelspec": {
      "name": "python3",
      "display_name": "Python 3"
    },
    "language_info": {
      "name": "python"
    }
  },
  "cells": [
    {
      "cell_type": "code",
      "source": [
        "from numpy import array\n",
        "\n",
        "v = array([0.51,0.4,0.54,0.54])\n",
        "σ = array([10.62,5.07,13.07,16.23])\n",
        "μ = array([42.90,19.30,66.43,86.14])\n",
        "\n",
        "def CCS(X):\n",
        "  return ((v/σ)*(X-μ)).sum()\n",
        "\n",
        "#@title Prodromic average scores:\n",
        "\n",
        "SDMT = 45 #@param {type:\"integer\"}\n",
        "VFT = 25 #@param {type:\"integer\"}\n",
        "SCR = 70 #@param {type:\"integer\"}\n",
        "SWR = 90 #@param {type:\"integer\"}\n",
        "\n",
        "\n",
        "X = array([SDMT, VFT, SCR, SWR], dtype=int)\n",
        "if (X<0).any():\n",
        "  print(\"Test scores can not be negative\")\n",
        "else:\n",
        "  ccs = CCS(X)\n",
        "  print(\"CCS = %.2f\"%ccs)\n",
        "  if ccs<-2.375:\n",
        "    print(\"Group 1: Low CCS, Motor high risk\")\n",
        "  elif ccs<2.375:\n",
        "    print(\"Group 2: medium CCS, Motor medium risk\")\n",
        "  else:\n",
        "    print(\"Group 3: high CCS, Motor low risk\")"
      ],
      "metadata": {
        "colab": {
          "base_uri": "https://localhost:8080/"
        },
        "id": "SQ-mj4125A1g",
        "outputId": "faa8dc34-8eca-4d3b-c409-7ac9e83abf71"
      },
      "execution_count": null,
      "outputs": [
        {
          "output_type": "stream",
          "name": "stdout",
          "text": [
            "CCS = 0.83\n",
            "Group 2: medium CCS, Motor medium risk\n"
          ]
        }
      ]
    },
    {
      "cell_type": "code",
      "source": [],
      "metadata": {
        "id": "OKUMBhr1zm11"
      },
      "execution_count": null,
      "outputs": []
    },
    {
      "cell_type": "code",
      "source": [],
      "metadata": {
        "id": "XTwGVn3Dzm4H"
      },
      "execution_count": null,
      "outputs": []
    },
    {
      "cell_type": "code",
      "source": [],
      "metadata": {
        "id": "yQAlrvz7zm6L"
      },
      "execution_count": null,
      "outputs": []
    },
    {
      "cell_type": "code",
      "source": [],
      "metadata": {
        "id": "oryOrFEfzm8P"
      },
      "execution_count": null,
      "outputs": []
    },
    {
      "cell_type": "code",
      "source": [],
      "metadata": {
        "id": "1m5z9oSgzm-l"
      },
      "execution_count": null,
      "outputs": []
    },
    {
      "cell_type": "code",
      "source": [],
      "metadata": {
        "id": "tLVKWGGmznAl"
      },
      "execution_count": null,
      "outputs": []
    },
    {
      "cell_type": "code",
      "source": [],
      "metadata": {
        "id": "c66M4g5wznCl"
      },
      "execution_count": null,
      "outputs": []
    },
    {
      "cell_type": "code",
      "source": [],
      "metadata": {
        "id": "7D1b0uhEznEx"
      },
      "execution_count": null,
      "outputs": []
    },
    {
      "cell_type": "code",
      "source": [],
      "metadata": {
        "id": "8kjbykIeznG7"
      },
      "execution_count": null,
      "outputs": []
    },
    {
      "cell_type": "code",
      "source": [],
      "metadata": {
        "id": "Grl3YFaMznJK"
      },
      "execution_count": null,
      "outputs": []
    },
    {
      "cell_type": "code",
      "source": [],
      "metadata": {
        "id": "4VQyt3VcznLN"
      },
      "execution_count": null,
      "outputs": []
    },
    {
      "cell_type": "code",
      "source": [],
      "metadata": {
        "id": "sxtiJ0DrznNT"
      },
      "execution_count": null,
      "outputs": []
    },
    {
      "cell_type": "code",
      "source": [
        "0.51*(SDMT-42.90)/10.62 + 0.40*(VFT-19.30)/5.07 + 0.54*(SCR-66.43)/13.07 + 0.54*(SWR-86.14)/16.23"
      ],
      "metadata": {
        "id": "KVpzyrd_rvDF",
        "outputId": "c1d602c5-e9fb-4ba6-b9f3-944a1c328949",
        "colab": {
          "base_uri": "https://localhost:8080/"
        }
      },
      "execution_count": null,
      "outputs": [
        {
          "output_type": "execute_result",
          "data": {
            "text/plain": [
              "-5.332921916283034"
            ]
          },
          "metadata": {},
          "execution_count": 6
        }
      ]
    },
    {
      "cell_type": "code",
      "source": [],
      "metadata": {
        "id": "SGGxNu3_rvkU"
      },
      "execution_count": null,
      "outputs": []
    }
  ]
}