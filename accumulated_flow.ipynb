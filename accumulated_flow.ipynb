{
 "cells": [
  {
   "cell_type": "code",
   "execution_count": 81,
   "id": "53a152e1-9828-472b-ba2f-68d509243bed",
   "metadata": {},
   "outputs": [],
   "source": [
    "import os\n",
    "import igraph as ig\n",
    "import pandas as pd\n",
    "import matplotlib.pyplot as plt\n",
    "from IPython.display import display"
   ]
  },
  {
   "cell_type": "markdown",
   "id": "bc043fcb-14ad-4137-a6f4-1c2b02cad573",
   "metadata": {},
   "source": [
    "# Load the input graph as an adjacency matrix"
   ]
  },
  {
   "cell_type": "code",
   "execution_count": 88,
   "id": "a454d1ba-491d-4dd5-95d3-682a2734510a",
   "metadata": {},
   "outputs": [],
   "source": [
    "file_name = \"accumulated_flow_adm.txt\"  # 1 tank node\n",
    "# file_name = \"accumulated_flow_2tanks_adm.txt\"  # 2 tank nodes\n",
    "\n",
    "if os.path.exists(\"./playgrounds/data/ACCUMULATED_FLOW/\"+file_name):\n",
    "    gfile = \"playgrounds/data/ACCUMULATED_FLOW/\"+file_name\n",
    "elif not os.path.exists(\"./data/ACCUMULATED_FLOW/\"+file_name):\n",
    "    ## Conditional branch for Google Colab\n",
    "    !git clone https://github.com/mazzalab/playgrounds.git\n",
    "    gfile = \"playgrounds/data/ACCUMULATED_FLOW/\"+file_name\n",
    "else:\n",
    "    gfile = \"data/ACCUMULATED_FLOW/\"+file_name"
   ]
  },
  {
   "cell_type": "code",
   "execution_count": 89,
   "id": "007079e6-9f5e-4bd2-895b-31348eb062d6",
   "metadata": {},
   "outputs": [],
   "source": [
    "gfile = \"playgrounds/data/ACCUMULATED_FLOW/accumulated_flow_adm.txt\""
   ]
  },
  {
   "cell_type": "code",
   "execution_count": 87,
   "id": "57e3c7e2-925b-4a4a-b903-373aeee88d15",
   "metadata": {},
   "outputs": [
    {
     "data": {
      "text/plain": [
       "<bound method NDFrame.head of     A  B  C  D  E  F  G  H  I  J  K  L\n",
       "0   0  0  0  0  1  0  0  0  0  0  0  0\n",
       "1   0  0  0  0  0  1  0  0  0  0  0  0\n",
       "2   0  0  0  0  0  1  0  0  0  0  0  0\n",
       "3   0  0  0  0  0  0  0  1  0  0  0  0\n",
       "4   0  0  0  0  0  0  0  0  1  1  0  0\n",
       "5   0  0  0  0  0  0  0  0  0  1  0  0\n",
       "6   0  0  0  0  0  0  0  0  0  1  0  0\n",
       "7   0  0  0  0  0  0  1  0  0  0  1  0\n",
       "8   0  0  0  0  0  0  0  0  0  0  0  1\n",
       "9   0  0  0  0  0  0  0  0  0  0  0  1\n",
       "10  0  0  0  0  0  0  0  0  0  0  0  1\n",
       "11  0  0  0  0  0  0  0  0  0  0  0  0>"
      ]
     },
     "execution_count": 87,
     "metadata": {},
     "output_type": "execute_result"
    }
   ],
   "source": [
    "data = pd.read_csv(gfile, sep=\"\\t\", header=0)\n",
    "data.head"
   ]
  },
  {
   "cell_type": "code",
   "execution_count": 41,
   "id": "548b6f52-270b-4105-8af0-1239072e5541",
   "metadata": {},
   "outputs": [],
   "source": [
    "# Get the values as np.array\n",
    "A = data.values\n",
    "g = ig.Graph.Adjacency((A > 0).tolist())"
   ]
  },
  {
   "cell_type": "code",
   "execution_count": 42,
   "id": "7a1522c3-34ae-46f3-96ef-6b1cd0e618df",
   "metadata": {},
   "outputs": [
    {
     "data": {
      "image/png": "[encoded data removed]",
      "text/plain": [
       "<Figure size 432x288 with 1 Axes>"
      ]
     },
     "metadata": {
      "needs_background": "light"
     },
     "output_type": "display_data"
    }
   ],
   "source": [
    "fig, ax = plt.subplots()\n",
    "ig.plot(g, target=ax, labels=True, vertex_label=data.columns)"
   ]
  },
  {
   "cell_type": "code",
   "execution_count": 68,
   "id": "23559244-2c2f-45dd-8630-386cc71b6f70",
   "metadata": {},
   "outputs": [
    {
     "name": "stdout",
     "output_type": "stream",
     "text": [
      "\u001b[94m\"OK\"\u001b[94m\n"
     ]
    }
   ],
   "source": [
    "# check if the graph is simple\n",
    "is_simple = g.is_simple()\n",
    "if not is_simple:\n",
    "    print(\"\\x1b[31m\\\"This graph cannot be analyzed because there are loopsred\\\"\\x1b[0m\")\n",
    "else:\n",
    "    print(\"\\033[94m\\\"OK\\\"\\033[94m\")"
   ]
  },
  {
   "cell_type": "markdown",
   "id": "6d99bae2-32e8-4cd2-b3e9-ebc854107743",
   "metadata": {},
   "source": [
    "## Get sink and tank nodes"
   ]
  },
  {
   "cell_type": "code",
   "execution_count": 70,
   "id": "ff12508a-6746-4053-b051-5e4eec1cf13c",
   "metadata": {},
   "outputs": [
    {
     "name": "stdout",
     "output_type": "stream",
     "text": [
      "Sink nodes:\n"
     ]
    },
    {
     "data": {
      "text/plain": [
       "['A', 'B', 'C', 'D']"
      ]
     },
     "metadata": {},
     "output_type": "display_data"
    },
    {
     "name": "stdout",
     "output_type": "stream",
     "text": [
      "Tank nodes:\n"
     ]
    },
    {
     "data": {
      "text/plain": [
       "['L']"
      ]
     },
     "metadata": {},
     "output_type": "display_data"
    }
   ],
   "source": [
    "sink=g.vs.select(_indegree=0)[\"name\"]\n",
    "tank=g.vs.select(_outdegree=0)[\"name\"]\n",
    "\n",
    "print(\"Sink nodes:\")\n",
    "display(sink)\n",
    "print(\"Tank nodes:\")\n",
    "display(tank)"
   ]
  },
  {
   "cell_type": "markdown",
   "id": "ae56811a-e9e8-4e07-b175-3548b78a4cd7",
   "metadata": {},
   "source": [
    "## Compute flows recursively"
   ]
  },
  {
   "cell_type": "code",
   "execution_count": 74,
   "id": "b7e41e4a-f6fe-45a8-9ac2-0b6e723ba57b",
   "metadata": {
    "tags": []
   },
   "outputs": [],
   "source": [
    "def get_score(node_name:str, ready_nodes:list):\n",
    "    if node_name in ready_nodes:\n",
    "        return ready_nodes[node_name]\n",
    "    else:\n",
    "        curr_node = g.vs.find(node_name)\n",
    "                \n",
    "        # get neighbor nodes\n",
    "        neighbors_idx = g.neighbors(curr_node, mode=\"in\")\n",
    "        neighbors_names = g.vs[neighbors_idx][\"name\"]\n",
    "        display(f\"The neighbors of {node_name} are {neighbors_names}\")\n",
    "\n",
    "        this_node_score = 0\n",
    "        for j in range(0, len(neighbors_names)):\n",
    "            this_node_score += get_score(neighbors_names[j], ready_nodes)\n",
    "\n",
    "        # divide the score by the number of outgoing edges if this node is not a tank node\n",
    "        if curr_node.outdegree() > 0:\n",
    "            this_node_score /= curr_node.outdegree()\n",
    "\n",
    "        display(f'The outgoing flow from node {curr_node[\"name\"]} is: {this_node_score}')\n",
    "        ready_nodes[node_name] = this_node_score\n",
    "        return this_node_score"
   ]
  },
  {
   "cell_type": "code",
   "execution_count": 75,
   "id": "0aafea1f-047c-4360-855d-1eaefd505228",
   "metadata": {},
   "outputs": [
    {
     "data": {
      "text/plain": [
       "{'A': 1, 'B': 1, 'C': 1, 'D': 1}"
      ]
     },
     "execution_count": 75,
     "metadata": {},
     "output_type": "execute_result"
    }
   ],
   "source": [
    "# set all starting flows to 1\n",
    "ready_nodes = {sink[i]: 1 for i in range(0, len(sink))}\n",
    "ready_nodes"
   ]
  },
  {
   "cell_type": "markdown",
   "id": "4464d117-8534-4559-bad7-e3c553317ec0",
   "metadata": {},
   "source": [
    "## and do it for each tank node (i.e., nodes with no outgoing edges)"
   ]
  },
  {
   "cell_type": "code",
   "execution_count": 76,
   "id": "993f700a-eeed-400c-a9c6-e217cab3aae8",
   "metadata": {},
   "outputs": [
    {
     "data": {
      "text/plain": [
       "\"The neighbors of L are ['I', 'J', 'K']\""
      ]
     },
     "metadata": {},
     "output_type": "display_data"
    },
    {
     "data": {
      "text/plain": [
       "\"The neighbors of I are ['E']\""
      ]
     },
     "metadata": {},
     "output_type": "display_data"
    },
    {
     "data": {
      "text/plain": [
       "\"The neighbors of E are ['A']\""
      ]
     },
     "metadata": {},
     "output_type": "display_data"
    },
    {
     "data": {
      "text/plain": [
       "'The outgoing flow from node E is: 0.5'"
      ]
     },
     "metadata": {},
     "output_type": "display_data"
    },
    {
     "data": {
      "text/plain": [
       "'The outgoing flow from node I is: 0.5'"
      ]
     },
     "metadata": {},
     "output_type": "display_data"
    },
    {
     "data": {
      "text/plain": [
       "\"The neighbors of J are ['E', 'F', 'G']\""
      ]
     },
     "metadata": {},
     "output_type": "display_data"
    },
    {
     "data": {
      "text/plain": [
       "\"The neighbors of F are ['B', 'C']\""
      ]
     },
     "metadata": {},
     "output_type": "display_data"
    },
    {
     "data": {
      "text/plain": [
       "'The outgoing flow from node F is: 2.0'"
      ]
     },
     "metadata": {},
     "output_type": "display_data"
    },
    {
     "data": {
      "text/plain": [
       "\"The neighbors of G are ['H']\""
      ]
     },
     "metadata": {},
     "output_type": "display_data"
    },
    {
     "data": {
      "text/plain": [
       "\"The neighbors of H are ['D']\""
      ]
     },
     "metadata": {},
     "output_type": "display_data"
    },
    {
     "data": {
      "text/plain": [
       "'The outgoing flow from node H is: 0.5'"
      ]
     },
     "metadata": {},
     "output_type": "display_data"
    },
    {
     "data": {
      "text/plain": [
       "'The outgoing flow from node G is: 0.5'"
      ]
     },
     "metadata": {},
     "output_type": "display_data"
    },
    {
     "data": {
      "text/plain": [
       "'The outgoing flow from node J is: 3.0'"
      ]
     },
     "metadata": {},
     "output_type": "display_data"
    },
    {
     "data": {
      "text/plain": [
       "\"The neighbors of K are ['H']\""
      ]
     },
     "metadata": {},
     "output_type": "display_data"
    },
    {
     "data": {
      "text/plain": [
       "'The outgoing flow from node K is: 0.5'"
      ]
     },
     "metadata": {},
     "output_type": "display_data"
    },
    {
     "data": {
      "text/plain": [
       "'The outgoing flow from node L is: 4.0'"
      ]
     },
     "metadata": {},
     "output_type": "display_data"
    },
    {
     "data": {
      "text/plain": [
       "'The flow to L is 4.0'"
      ]
     },
     "metadata": {},
     "output_type": "display_data"
    }
   ],
   "source": [
    "for i in range(0, len(tank)):\n",
    "    t_name = tank[i]\n",
    "    \n",
    "    display(f\"The flow to {t_name} is {get_score(t_name, ready_nodes)}\")"
   ]
  },
  {
   "cell_type": "markdown",
   "id": "8e5d7ac7-1bf4-4586-8b1c-7e8bbbf72e9c",
   "metadata": {},
   "source": [
    "# Print system and required packages information"
   ]
  },
  {
   "cell_type": "code",
   "execution_count": 78,
   "id": "41193932-551a-47b0-8002-6131d7c76858",
   "metadata": {},
   "outputs": [
    {
     "name": "stdout",
     "output_type": "stream",
     "text": [
      "The watermark extension is already loaded. To reload it, use:\n",
      "  %reload_ext watermark\n",
      "Python implementation: CPython\n",
      "Python version       : 3.9.5\n",
      "IPython version      : 7.24.1\n",
      "\n",
      "pandas    : 1.2.5\n",
      "matplotlib: 3.4.2\n",
      "IPython   : 7.24.1\n",
      "igraph    : 0.9.1\n",
      "watermark : 2.2.0\n",
      "jupyterlab: 3.0.16\n",
      "\n",
      "Compiler    : MSC v.1916 64 bit (AMD64)\n",
      "OS          : Windows\n",
      "Release     : 10\n",
      "Machine     : AMD64\n",
      "Processor   : Intel64 Family 6 Model 60 Stepping 3, GenuineIntel\n",
      "CPU cores   : 8\n",
      "Architecture: 64bit\n",
      "\n",
      " \n",
      "Last updated: Thu Jun 24 2021 14:20:49W. Europe Summer Time\n",
      "\n"
     ]
    }
   ],
   "source": [
    "%load_ext watermark\n",
    "%watermark -v -m -p pandas,matplotlib,IPython,igraph,watermark,jupyterlab\n",
    "\n",
    "# date\n",
    "print(\" \")\n",
    "%watermark -u -n -t -z"
   ]
  },
  {
   "cell_type": "code",
   "execution_count": null,
   "id": "ad82fe19-3998-481a-be3f-ae7b583b3087",
   "metadata": {},
   "outputs": [],
   "source": []
  }
 ],
 "metadata": {
  "kernelspec": {
   "display_name": "Python 3",
   "language": "python",
   "name": "python3"
  },
  "language_info": {
   "codemirror_mode": {
    "name": "ipython",
    "version": 3
   },
   "file_extension": ".py",
   "mimetype": "text/x-python",
   "name": "python",
   "nbconvert_exporter": "python",
   "pygments_lexer": "ipython3",
   "version": "3.9.5"
  }
 },
 "nbformat": 4,
 "nbformat_minor": 5
}
