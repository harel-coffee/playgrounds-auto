{
 "cells": [
  {
   "cell_type": "code",
   "execution_count": 3,
   "metadata": {},
   "outputs": [],
   "source": [
    "import os.path\n",
    "import numpy as np\n",
    "import pandas as pd\n",
    "import matplotlib.pyplot as plt\n",
    "from sklearn.linear_model import LinearRegression\n",
    "from traitlets import traitlets\n",
    "from IPython.display import display\n",
    "from ipywidgets import HBox, VBox, BoundedFloatText, BoundedIntText, Text, Layout, Button"
   ]
  },
  {
   "cell_type": "markdown",
   "metadata": {},
   "source": [
    "# Processing demographic data"
   ]
  },
  {
   "cell_type": "markdown",
   "metadata": {},
   "source": [
    "We have retrieved demographic data from the data portal of the **National Centre for Statistics & Information** of the *Sultanate of Oman* (https://data.gov.om/)\n",
    "\n",
    "Data are formatted in a two-columns file, where<br>\n",
    "*  The __first__ column contains _years_.<br>\n",
    "*  The __second__ column, which must be named *Population*, contains integer numbers and reports the total population in the Muscat region per year [2010-2019]"
   ]
  },
  {
   "cell_type": "code",
   "execution_count": 7,
   "metadata": {},
   "outputs": [
    {
     "name": "stdout",
     "output_type": "stream",
     "text": [
      "      Population\n",
      "Year            \n",
      "2010      407006\n",
      "2011      418652\n",
      "2012      435149\n",
      "2013      451652\n",
      "2014      470085\n",
      "2015      487592\n",
      "2016      512039\n",
      "2017      528327\n",
      "2018      543930\n"
     ]
    }
   ],
   "source": [
    "if os.path.exists(\"./playgrounds/data/JNNP_2020/Epidemiology_Oman.txt\"):\n",
    "    epi_file = \"./playgrounds/data/JNNP_2020/Epidemiology_Oman.txt\"\n",
    "elif not os.path.exists(\"./data/JNNP_2020/Epidemiology_Oman.txt\"):\n",
    "    !git clone https://github.com/mazzalab/playgrounds.git\n",
    "    epi_file = \"./playgrounds/data/JNNP_2020/Epidemiology_Oman.txt\"\n",
    "else:\n",
    "    epi_file = \"./data/JNNP_2020/Epidemiology_Oman.txt\"\n",
    "    \n",
    "df = pd.read_csv(epi_file, sep='\\t', index_col=0)\n",
    "print(df)"
   ]
  },
  {
   "cell_type": "markdown",
   "metadata": {},
   "source": [
    "## Predicting Muscat population growth"
   ]
  },
  {
   "cell_type": "markdown",
   "metadata": {},
   "source": [
    "The observed period of time starts in **2014** and ends in the year specified below."
   ]
  },
  {
   "cell_type": "code",
   "execution_count": 38,
   "metadata": {},
   "outputs": [
    {
     "data": {
      "application/vnd.jupyter.widget-view+json": {
       "model_id": "b2e675bcafd94f9db80d696de6c1e27e",
       "version_major": 2,
       "version_minor": 0
      },
      "text/plain": [
       "HBox(children=(BoundedIntText(value=2050, description='Simulate from 2014 until:', max=2100, min=2015, style=D…"
      ]
     },
     "metadata": {},
     "output_type": "display_data"
    }
   ],
   "source": [
    "style = {'description_width': 'initial'}\n",
    "\n",
    "simulation_end_text = BoundedIntText(\n",
    "    min=2015,\n",
    "    max=2100,\n",
    "    step=1,\n",
    "    value=2050,\n",
    "    description='Simulate from 2014 until:', style=style)\n",
    "\n",
    "class GenerateTimeButton(Button):\n",
    "    def __init__(self, value=None, *args, **kwargs):\n",
    "        super(GenerateTimeButton, self).__init__(*args, **kwargs)\n",
    "        # Create the value attribute.\n",
    "        self.add_traits(value=traitlets.Any(value))\n",
    "        \n",
    "# Generate time period (list of years) to be simulated\n",
    "def on_generate_time_button_clicked(button):\n",
    "    button.value = np.arange(2014, simulation_end_text.value+1, 1).reshape((-1, 1))\n",
    "    print(\"Simulation time points generated\")\n",
    "\n",
    "generate_time_button = GenerateTimeButton(\n",
    "    description=\"Generate\",\n",
    "    button_style='info',\n",
    "    tooltip='Generate simulation time points'\n",
    ")\n",
    "generate_time_button.value=np.array([])\n",
    "generate_time_button.on_click(on_generate_time_button_clicked)\n",
    "\n",
    "hbox_time = HBox([simulation_end_text, generate_time_button])\n",
    "display(hbox_time)"
   ]
  },
  {
   "cell_type": "markdown",
   "metadata": {},
   "source": [
    "Linear regression analysis is conducted on demographic data using the *LinearRegression* module from the Python **sklearn** package. The typical linear regression equation: \\begin{align}y & = mx + b\\end{align} is fitted and *coefficient of determination ($r^2$)*, *intercept* ($b$) and *slope* ($m$) are inferred."
   ]
  },
  {
   "cell_type": "code",
   "execution_count": 39,
   "metadata": {},
   "outputs": [
    {
     "name": "stdout",
     "output_type": "stream",
     "text": [
      "Simulation time points generated\n",
      " \n",
      "coefficient of determination: 0.996\n",
      "intercept (b): -35324154.9\n",
      "slope (m): [17774.017]\n",
      "\n",
      "time:\t\t\t\t[2010 2011 2012 2013 2014 2015 2016 2017 2018]\n",
      "predicted response:\t\t[401619. 419393. 437167. 454941. 472715. 490489. 508263. 526037. 543811.]\n",
      "predicted response [2018]\t543811.0\n",
      "actual data [Dec. 2018]:\t543930\n",
      "predicted response [2019]\t561585.0\n",
      "actual data [Dec. 2019]:\t567851\n",
      "predicted response [2020]\t579359.0\n",
      "actual data [Feb. 2020]:\t570196\n"
     ]
    },
    {
     "data": {
      "image/png": "[encoded data removed]",
      "text/plain": [
       "<Figure size 432x288 with 1 Axes>"
      ]
     },
     "metadata": {
      "needs_background": "light"
     },
     "output_type": "display_data"
    }
   ],
   "source": [
    "if not generate_time_button.value.any():\n",
    "    simulation_end_text.value=2050\n",
    "    generate_time_button.click()\n",
    "\n",
    "x_new = generate_time_button.value\n",
    "\n",
    "#######################################\n",
    "\n",
    "%matplotlib inline\n",
    "x = df.index.values.reshape((-1, 1))\n",
    "y = df.Population\n",
    "model = LinearRegression().fit(x, y)\n",
    "\n",
    "r_sq = model.score(x, y)\n",
    "print(\" \")\n",
    "print('coefficient of determination:', np.round(r_sq, 3))\n",
    "print('intercept (b):', np.round(model.intercept_, 3))\n",
    "print('slope (m):', np.round(model.coef_, 3))\n",
    "print('')\n",
    "\n",
    "# Predict response of known data\n",
    "y_pred = model.predict(x)\n",
    "print('time:', np.transpose(x)[0], sep='\\t\\t\\t\\t')\n",
    "print('predicted response:', np.around(y_pred), sep='\\t\\t')\n",
    "\n",
    "# Plot outputs\n",
    "axis_scale = 1e5\n",
    "plt.scatter(x, y/axis_scale,  color='black', label=\"act. population\")\n",
    "plt.plot(x, y_pred/axis_scale, color='blue',\n",
    "         linewidth=3, label=\"Interpolation\")\n",
    "\n",
    "plt.title('Actual vs Predicted')\n",
    "plt.xlabel('years')\n",
    "plt.ylabel('population growth (1e5)')\n",
    "\n",
    "plt.legend(loc='upper left')\n",
    "\n",
    "# Predict response of future data [2018-2020]\n",
    "y_pred = np.round(model.predict(x_new))\n",
    "print('predicted response [2018]', y_pred[4], sep='\\t')\n",
    "print('actual data [Dec. 2018]:\\t{}'.format(df.iloc[8]['Population']))\n",
    "\n",
    "print('predicted response [2019]', y_pred[5], sep='\\t')\n",
    "print('actual data [Dec. 2019]:\\t{}'.format(567851))\n",
    "\n",
    "print('predicted response [2020]', y_pred[6], sep='\\t')\n",
    "print('actual data [Feb. 2020]:\\t{}'.format(570196))"
   ]
  },
  {
   "cell_type": "markdown",
   "metadata": {},
   "source": [
    "# Markov Chain design"
   ]
  },
  {
   "cell_type": "markdown",
   "metadata": {},
   "source": [
    "A **discrete-time Markov chain (DTMC)** is designed to model the *death* event of HD patients and *onset* of the disease among inhabitants of Muscat. To do that, *birth/death* events were inferred from observational data collected from 2013 to 2019 in the Muscat population."
   ]
  },
  {
   "cell_type": "markdown",
   "metadata": {},
   "source": [
    "## Set the transition rates"
   ]
  },
  {
   "cell_type": "markdown",
   "metadata": {},
   "source": [
    "The modeled process is stochastic and *memoryless*, in that it allows to make predictions based solely on its present state. The process passes through three states: **Healthy**, **HD Alive** and **HD Dead** as a result of *birth* and *death* events, driven in turn by: <b>I</b> = incidence rate of the disease and <b>D</b> = death rate because of the disease.<br/>\n",
    "<img src=\"data/JNNP_2020/MC_states.png\" align=\"middle\" width=\"300\">\n",
    "\n",
    "where:<br/>\n",
    "* $I_{avg}$: &emsp;the average HD incidence rate in the world population (**0.38** per 100,000 per year) [https://doi.org/10.1002/mds.25075]\n",
    "* $I_{Muscat}$: the actual HD incidence rate in Muscat (**0.56** per 100,000 per year [2013-2019])\n",
    "* $D_{avg}$: &emsp;the HD death rate registered in England-Wales in 1960-1973 (**1.55** per million population) [https://pubmed.ncbi.nlm.nih.gov/6233902/]\n",
    "* $D_{Muscat}$: the actual HD death rate in Muscat (**1.82** per million population [2013-2019])"
   ]
  },
  {
   "cell_type": "code",
   "execution_count": 40,
   "metadata": {},
   "outputs": [
    {
     "data": {
      "application/vnd.jupyter.widget-view+json": {
       "model_id": "e72a2963486c4295af295f1c326bc617",
       "version_major": 2,
       "version_minor": 0
      },
      "text/plain": [
       "HBox(children=(VBox(children=(BoundedFloatText(value=0.38, description='$I_{avg}$ (per 100.000):', max=0.45, m…"
      ]
     },
     "metadata": {},
     "output_type": "display_data"
    }
   ],
   "source": [
    "# estimated incidence rate world-wide (0.38 per 100,000 per year) [https://doi.org/10.1002/mds.25075]\n",
    "est_inc_rate_text = BoundedFloatText(\n",
    "    min=0.25,\n",
    "    max=0.45,\n",
    "    step=0.05,\n",
    "    value=0.38,\n",
    "    description='$I_{avg}$ (per 100.000):', style=style)\n",
    "\n",
    "# actual incidence rate (0.56 per 100,000 per year) ~ 3 new HD patients in Muscat in 2018 [https://data.gov.om/OMPOP2016/population?indicator=1000140&region=1000020-muscat&nationality=1000010-omani]\n",
    "act_inc_rate_text = BoundedFloatText(\n",
    "    min=0.45,\n",
    "    max=0.65,\n",
    "    step=0.05,\n",
    "    value=0.56,\n",
    "    description='$I_{Muscat}$ (per 100.000):', style=style)\n",
    "\n",
    "# estimated death rate as for England-Wales in 1960-1973 were 1.55 per million population\n",
    "# http://europepmc.org/backend/ptpmcrender.fcgi?accid=PMC1684448&blobtype=pdf\n",
    "est_death_rate_text = BoundedFloatText(\n",
    "    description='$D_{avg}$ (per 100.000):', \n",
    "    style=style,\n",
    "    min=0.12,\n",
    "    max=0.18,\n",
    "    step=0.005,\n",
    "    value=0.155\n",
    ")\n",
    "\n",
    "# actual death rate ~ 1 patient in 2018 per 100.000 per year in Muscat\n",
    "act_death_rate_text = BoundedFloatText(\n",
    "    min=0.16,\n",
    "    max=0.2,\n",
    "    step=0.01,\n",
    "    value=0.1819,\n",
    "    description='$D_{Muscat}$ (per 100.000):', style=style)\n",
    "\n",
    "# starting HD population in Muscat in 2014 (32)\n",
    "hd_2014_text = BoundedIntText(\n",
    "    min=0,\n",
    "    max=1000,\n",
    "    step=1,\n",
    "    value=32,\n",
    "    description='HD prevalence in Muscat in 2014:', style=style,\n",
    "    layout=Layout(height='50px'))\n",
    "\n",
    "left_box = VBox([est_inc_rate_text, act_inc_rate_text, hd_2014_text])\n",
    "right_box = VBox([est_death_rate_text, act_death_rate_text])\n",
    "hbox = HBox([left_box, right_box])\n",
    "\n",
    "display(hbox)"
   ]
  },
  {
   "cell_type": "markdown",
   "metadata": {},
   "source": [
    "### Set the number of simulation traces"
   ]
  },
  {
   "cell_type": "markdown",
   "metadata": {},
   "source": [
    "In order to approximate the posterior distribution of the HD prevalence, one performs a *Monte Carlo* simulation with $1000$ independent simulation runs from where calculating the *average number of incident cases* per year."
   ]
  },
  {
   "cell_type": "code",
   "execution_count": 29,
   "metadata": {},
   "outputs": [
    {
     "data": {
      "application/vnd.jupyter.widget-view+json": {
       "model_id": "c98f22a927684584ba8b2c4a236571dd",
       "version_major": 2,
       "version_minor": 0
      },
      "text/plain": [
       "BoundedIntText(value=1000, description='Simulation traces:', max=5000, min=1, style=DescriptionStyle(descripti…"
      ]
     },
     "metadata": {},
     "output_type": "display_data"
    }
   ],
   "source": [
    "simulation_traces = BoundedIntText(\n",
    "    min=1,\n",
    "    max=5000,\n",
    "    step=1,\n",
    "    value=1000,\n",
    "    description='Simulation traces:', style=style)\n",
    "display(simulation_traces)"
   ]
  },
  {
   "cell_type": "markdown",
   "metadata": {},
   "source": [
    "### Initialize state vectors"
   ]
  },
  {
   "cell_type": "markdown",
   "metadata": {},
   "source": [
    "For each simulation step, $6$ vectors are updated:<br/>\n",
    "* ***est_inc*** stores the variation of incidence over time according to $I_{avg}$\n",
    "* ***act_inc*** stores the variation of incidence over time according to $I_{Muscat}$\n",
    "* ***est_death*** stores the numbers of deaths over time according to $D_{avg}$\n",
    "* ***act_death*** stores the numbers of deaths over time according to $D_{Muscat}$\n",
    "* ***est_alive_HD*** stores the number of alive HD patients over time, based on ***est_inc*** and ***est_death***\n",
    "* ***act_alive_HD*** astores the number of alive HD patients over time, based on ***act_inc*** and ***act_death***"
   ]
  },
  {
   "cell_type": "code",
   "execution_count": 30,
   "metadata": {},
   "outputs": [],
   "source": [
    "# record the number of simulation steps\n",
    "sim_time = len(x_new)\n",
    "\n",
    "# get the number of simulation traces from the textfield above\n",
    "num_traces = simulation_traces.value\n",
    "\n",
    "est_inc = np.zeros((num_traces, sim_time), dtype=int)\n",
    "act_inc = np.zeros((num_traces, sim_time), dtype=int)\n",
    "\n",
    "est_death = np.zeros((num_traces, sim_time), dtype=int)\n",
    "act_death = np.zeros((num_traces, sim_time), dtype=int)\n",
    "\n",
    "est_alive_HD = np.zeros((num_traces, sim_time), dtype=int)\n",
    "est_alive_HD[:, 0] = hd_2014_text.value\n",
    "act_alive_HD = np.zeros((num_traces, sim_time), dtype=int)\n",
    "act_alive_HD[:, 0] = hd_2014_text.value"
   ]
  },
  {
   "cell_type": "markdown",
   "metadata": {},
   "source": [
    "### Trigger the Monte Carlo simulation"
   ]
  },
  {
   "cell_type": "markdown",
   "metadata": {},
   "source": [
    "For each independent simulation and for each time step, the number of alive HD patients is calculated as the sum of the number of *currently alive* HD patients and that of *new* HD patients, from which the number of currently *deceased* patients is subtracted."
   ]
  },
  {
   "cell_type": "code",
   "execution_count": 31,
   "metadata": {},
   "outputs": [],
   "source": [
    "for rep in range(num_traces):\n",
    "    for t in range(sim_time-1):\n",
    "        curr_pop = y_pred[t]\n",
    "\n",
    "        est_inc[rep, t] = np.random.poisson(\n",
    "            (est_inc_rate_text.value * curr_pop)/100000)\n",
    "        act_inc[rep, t] = np.random.poisson(\n",
    "            (act_inc_rate_text.value * curr_pop)/100000)\n",
    "\n",
    "        est_death[rep, t] = np.random.poisson(\n",
    "            (est_death_rate_text.value * curr_pop)/100000)\n",
    "        act_death[rep, t] = np.random.poisson(\n",
    "            (act_death_rate_text.value * curr_pop)/100000)\n",
    "\n",
    "        est_alive_HD[rep, t+1] = est_alive_HD[rep, t] - \\\n",
    "            est_death[rep, t] + est_inc[rep, t]\n",
    "        act_alive_HD[rep, t+1] = act_alive_HD[rep, t] - \\\n",
    "            act_death[rep, t] + act_inc[rep, t]"
   ]
  },
  {
   "cell_type": "markdown",
   "metadata": {},
   "source": [
    "### Plot HD population predicted to be alive"
   ]
  },
  {
   "cell_type": "markdown",
   "metadata": {},
   "source": [
    "N.b., __est. HD population__ accounts for the population that is predicted to be alive every year according to *incidence* and *death* rates that are the world average; __act. HD population__ refers instead to the actual rates calculated stright on the actual Muscat population records, as previously described."
   ]
  },
  {
   "cell_type": "code",
   "execution_count": 41,
   "metadata": {},
   "outputs": [
    {
     "data": {
      "application/vnd.jupyter.widget-view+json": {
       "model_id": "a0567259acff4d1ea42c87c2fd9db0e5",
       "version_major": 2,
       "version_minor": 0
      },
      "text/plain": [
       "Button(button_style='info', description='Save SVG', style=ButtonStyle(), tooltip='Save to SVG file')"
      ]
     },
     "metadata": {},
     "output_type": "display_data"
    },
    {
     "data": {
      "image/png": "[encoded data removed]",
      "text/plain": [
       "<Figure size 576x288 with 1 Axes>"
      ]
     },
     "metadata": {
      "needs_background": "light"
     },
     "output_type": "display_data"
    }
   ],
   "source": [
    "# Select a random trace\n",
    "rtrace = np.random.randint(0,num_traces)\n",
    "\n",
    "# Plot a random trace of est/act. alive HD cases in the Muscat region\n",
    "fig, ax = plt.subplots(1, 1, figsize=(8, 4))\n",
    "ax.plot(x_new, est_alive_HD[rtrace, :], lw=2, label='est. HD population')\n",
    "ax.plot(x_new, act_alive_HD[rtrace, :], lw=2, label='act. HD population')\n",
    "ax.legend(loc='upper left')\n",
    "\n",
    "def on_save_alive_pop_button(but):\n",
    "    fig.savefig('alive_population.svg', format='svg', dpi=1200)\n",
    "    print('Figure saved')\n",
    "\n",
    "save_alive_button = Button(\n",
    "    description=\"Save SVG\",\n",
    "    button_style='info',\n",
    "    tooltip='Save to SVG file'\n",
    ")\n",
    "save_alive_button.on_click(on_save_alive_pop_button)\n",
    "display(save_alive_button)"
   ]
  },
  {
   "cell_type": "markdown",
   "metadata": {},
   "source": [
    "# Calculate average estimates of prevalence over traces"
   ]
  },
  {
   "cell_type": "markdown",
   "metadata": {},
   "source": [
    "The **prevalence** of HD is calculated year by year until the end of simulation and for each simulation trace."
   ]
  },
  {
   "cell_type": "code",
   "execution_count": 33,
   "metadata": {},
   "outputs": [
    {
     "name": "stdout",
     "output_type": "stream",
     "text": [
      "[[ 6.77  6.93  7.08 ... 11.14 11.51 11.68]\n",
      " [ 6.77  6.32  6.3  ... 11.51 11.6  11.59]\n",
      " [ 6.77  6.73  7.48 ... 12.91 13.15 13.39]\n",
      " ...\n",
      " [ 6.77  6.52  7.08 ... 13.09 13.15 13.93]\n",
      " [ 6.77  6.93  6.69 ... 12.81 12.6  12.94]\n",
      " [ 6.77  6.93  7.08 ... 11.88 12.06 12.76]]\n"
     ]
    }
   ],
   "source": [
    "# Calculate prevalence for each year and for each simulation trace\n",
    "prev_HD = np.round((act_alive_HD / y_pred)*1e5, 2)\n",
    "print(prev_HD)"
   ]
  },
  {
   "cell_type": "markdown",
   "metadata": {},
   "source": [
    "### Plot prevalence estimates"
   ]
  },
  {
   "cell_type": "markdown",
   "metadata": {},
   "source": [
    "Calculate the **average prevalence** values ($\\mu$) for each year and over all simulation traces, together with the **standard deviation** ($\\sigma$) values.<br/>\n",
    "Make a line plot with bands, with *years* on the X-axis and the *prevalence* values on the Y-axis."
   ]
  },
  {
   "cell_type": "code",
   "execution_count": 34,
   "metadata": {},
   "outputs": [
    {
     "data": {
      "application/vnd.jupyter.widget-view+json": {
       "model_id": "8d7efdbade124e63977eeb40e5b7cb33",
       "version_major": 2,
       "version_minor": 0
      },
      "text/plain": [
       "Button(button_style='info', description='Save SVG', style=ButtonStyle(), tooltip='Save to SVG file')"
      ]
     },
     "metadata": {},
     "output_type": "display_data"
    },
    {
     "data": {
      "image/png": "[encoded data removed]",
      "text/plain": [
       "<Figure size 180x180 with 1 Axes>"
      ]
     },
     "metadata": {
      "needs_background": "light"
     },
     "output_type": "display_data"
    }
   ],
   "source": [
    "# calculate average and standard deviation of prevalence data over all traces\n",
    "mu = prev_HD.mean(axis=0)\n",
    "sigma = prev_HD.std(axis=0)\n",
    "\n",
    "# Get the prevalence estimate for 2019, as a crosscheck with real data\n",
    "prev_2019 = mu[4]\n",
    "prev_2050 = mu[len(mu)-1]\n",
    "\n",
    "# instantiate and configure the final plot\n",
    "fig, ax = plt.subplots(1, 1, figsize=(2.5, 2.5))\n",
    "markers_on = [4, len(mu)-1]\n",
    "ax.plot(x_new, prev_HD.mean(axis=0), '-gD', lw=2, label='mean prevalence', markevery=markers_on)\n",
    "ax.set_ylabel('HD prevalence')\n",
    "ax.legend(loc='upper left', bbox_to_anchor=(0.15, 1.25), ncol=1, prop={\"size\":8})\n",
    "ax.set_xticks([2014, 2015, 2025, 2035, 2045], minor=True)\n",
    "ax.fill_between(x_new.flatten(), mu+sigma, mu-sigma, facecolor='lightgray', alpha=0.7)\n",
    "\n",
    "plt.annotate(np.round(prev_2019,2),\n",
    "                 (2014,prev_2019),\n",
    "                 textcoords=\"offset points\",\n",
    "                 xytext=(0,10),\n",
    "                 ha='left')\n",
    "plt.annotate(np.round(prev_2050,2),\n",
    "                 (2050,prev_2050),\n",
    "                 textcoords=\"offset points\",\n",
    "                 xytext=(0,10),\n",
    "                 ha='left')\n",
    "\n",
    "ax.spines['top'].set_visible(False)\n",
    "ax.spines['right'].set_visible(False)\n",
    "ax.spines['bottom'].set_visible(True)\n",
    "ax.spines['left'].set_visible(True)\n",
    "\n",
    "\n",
    "def on_save_prevalence_button(but):\n",
    "    fig.savefig('act_prevalence.svg', format='svg', dpi=1200)\n",
    "    print('Figure saved')\n",
    "\n",
    "save_prevalence_button = Button(\n",
    "    description=\"Save SVG\",\n",
    "    button_style='info',\n",
    "    tooltip='Save to SVG file'\n",
    ")\n",
    "save_prevalence_button.on_click(on_save_prevalence_button)\n",
    "display(save_prevalence_button)"
   ]
  },
  {
   "cell_type": "markdown",
   "metadata": {},
   "source": [
    "### Generate a prevalence table"
   ]
  },
  {
   "cell_type": "code",
   "execution_count": 35,
   "metadata": {},
   "outputs": [
    {
     "name": "stdout",
     "output_type": "stream",
     "text": [
      "   Years  Prevalence\n",
      "0   2014     6.77000\n",
      "1   2015     6.88803\n",
      "2   2016     7.02210\n",
      "3   2017     7.13165\n",
      "4   2018     7.25717\n"
     ]
    },
    {
     "data": {
      "application/vnd.jupyter.widget-view+json": {
       "model_id": "fca45bed0abd412ea7c2724ac8a471a4",
       "version_major": 2,
       "version_minor": 0
      },
      "text/plain": [
       "Button(button_style='info', description='Save XLSX', style=ButtonStyle(), tooltip='Save to Excel file')"
      ]
     },
     "metadata": {},
     "output_type": "display_data"
    }
   ],
   "source": [
    "prev_df = pd.DataFrame({'Years':x_new.flatten(), 'Prevalence':mu})\n",
    "print(prev_df.head())\n",
    "\n",
    "def on_save_prevalence_table_button(but):\n",
    "    prev_df.to_excel(\"prevalence_table.xlsx\", index=False)  \n",
    "    print('Figure saved')\n",
    "\n",
    "save_prevalence_table_button = Button(\n",
    "    description=\"Save XLSX\",\n",
    "    button_style='info',\n",
    "    tooltip='Save to Excel file'\n",
    ")\n",
    "save_prevalence_table_button.on_click(on_save_prevalence_table_button)\n",
    "display(save_prevalence_table_button)"
   ]
  },
  {
   "cell_type": "markdown",
   "metadata": {},
   "source": [
    "### Miscellaneous plots"
   ]
  },
  {
   "cell_type": "markdown",
   "metadata": {},
   "source": [
    "Create two plots of **frequency** of *adults*, *youngs* HD and *at-risk* subjects."
   ]
  },
  {
   "cell_type": "code",
   "execution_count": 42,
   "metadata": {},
   "outputs": [
    {
     "name": "stdout",
     "output_type": "stream",
     "text": [
      "  Patients  Adult-onset  Juvenile-onset\n",
      "0    Alive           41               4\n",
      "1     Dead           26               5\n",
      "2     >50%           10               0\n",
      "3    Total           67               9\n",
      "\n",
      "  Patients  ≤50% risk  >50% risk\n",
      "0    Alive        240         64\n",
      "1     Dead         19          2\n",
      "\n"
     ]
    },
    {
     "data": {
      "image/png": "[encoded data removed]",
      "text/plain": [
       "<Figure size 396x180 with 2 Axes>"
      ]
     },
     "metadata": {
      "needs_background": "light"
     },
     "output_type": "display_data"
    },
    {
     "data": {
      "application/vnd.jupyter.widget-view+json": {
       "model_id": "bacd706f410e47f896387923aee2c197",
       "version_major": 2,
       "version_minor": 0
      },
      "text/plain": [
       "Button(button_style='info', description='Save SVG', style=ButtonStyle(), tooltip='Save to SVG file')"
      ]
     },
     "metadata": {},
     "output_type": "display_data"
    }
   ],
   "source": [
    "bars_file = \"./data/JNNP_2020/Bar_plots.xlsx\"\n",
    "fig, (ax1, ax2) = plt.subplots(1, 2, figsize=(5.5, 2.5), gridspec_kw={'width_ratios': [2, 1]})\n",
    "\n",
    "\n",
    "######## Panel A ########\n",
    "dfA = pd.read_excel(bars_file, sheet_name=\"Figure A\") #index_col=0, \n",
    "print(dfA)\n",
    "print(\"\")\n",
    "\n",
    "labels = dfA.Patients\n",
    "x = np.arange(len(labels))\n",
    "\n",
    "adult_onset = dfA.iloc[:,1]\n",
    "juvenile_onset = dfA.iloc[:,2]\n",
    "\n",
    "width = 0.35*2  # the width of the bars\n",
    "rects1 = ax1.bar(x, adult_onset, width, label='Adult onset', \n",
    "                 color='white', edgecolor='black')\n",
    "rects2 = ax1.bar(x, juvenile_onset, width, label='Juvenile onset', \n",
    "                 color='lightgray', edgecolor='black', hatch=\"//////\")\n",
    "\n",
    "ax1.set_ylabel('HD subjects')\n",
    "ax1.set_xticks(x)\n",
    "ax1.set_yticks([10, 30, 50], minor=True)\n",
    "ax1.set_xticklabels(labels)\n",
    "ax1.legend(loc='upper center', bbox_to_anchor=(0.5, 1.25),ncol=2, prop={\"size\":8})\n",
    "\n",
    "ax1.spines['top'].set_visible(False)\n",
    "ax1.spines['right'].set_visible(False)\n",
    "ax1.spines['bottom'].set_visible(True)\n",
    "ax1.spines['left'].set_visible(True)\n",
    "\n",
    "######## Panel B ########\n",
    "dfB = pd.read_excel(bars_file, sheet_name=\"Figure B\")\n",
    "print(dfB)\n",
    "print(\"\")\n",
    "\n",
    "labels = dfB.Patients\n",
    "more50 = dfB.iloc[:,1]\n",
    "less50 = dfB.iloc[:,2]\n",
    "\n",
    "x = np.arange(len(labels))\n",
    "width = 0.35*2\n",
    "\n",
    "rects1 = ax2.bar(x, more50, width, label='>50% risk', \n",
    "                 color='white', edgecolor='black')\n",
    "rects2 = ax2.bar(x, less50, width, label='≤50% risk', \n",
    "                 color='lightgray', edgecolor='black', hatch=\"xXX\")\n",
    "\n",
    "ax2.set_ylabel('At-risk subjects')\n",
    "ax2.set_xticks(x)\n",
    "ax2.set_xticklabels(labels)\n",
    "ax2.legend(loc='upper center', bbox_to_anchor=(0.5, 1.25),ncol=2, prop={\"size\":8})\n",
    "\n",
    "ax2.spines['top'].set_visible(False)\n",
    "ax2.spines['right'].set_visible(False)\n",
    "ax2.spines['bottom'].set_visible(True)\n",
    "ax2.spines['left'].set_visible(True)\n",
    "\n",
    "\n",
    "##### Plotting #####\n",
    "fig.tight_layout()\n",
    "\n",
    "plt.rcParams.update({'font.size': 10})\n",
    "plt.show()\n",
    "\n",
    "\n",
    "def on_save_misc_button(but):\n",
    "    fig.savefig('misc_plots.svg', format='svg', dpi=1200)\n",
    "    print('Figure saved')\n",
    "\n",
    "save_misc_button = Button(\n",
    "    description=\"Save SVG\",\n",
    "    button_style='info',\n",
    "    tooltip='Save to SVG file'\n",
    ")\n",
    "save_misc_button.on_click(on_save_misc_button)\n",
    "display(save_misc_button)"
   ]
  },
  {
   "cell_type": "markdown",
   "metadata": {},
   "source": [
    "# Print system and required packages information"
   ]
  },
  {
   "cell_type": "code",
   "execution_count": 37,
   "metadata": {},
   "outputs": [
    {
     "name": "stdout",
     "output_type": "stream",
     "text": [
      "CPython 3.7.6\n",
      "IPython 7.12.0\n",
      "\n",
      "numpy 1.18.1\n",
      "pandas 1.0.1\n",
      "matplotlib 3.1.3\n",
      "sklearn 0.22.1\n",
      "traitlets 4.3.3\n",
      "IPython 7.12.0\n",
      "ipywidgets 7.5.1\n",
      "\n",
      "compiler   : MSC v.1916 64 bit (AMD64)\n",
      "system     : Windows\n",
      "release    : 10\n",
      "machine    : AMD64\n",
      "processor  : Intel64 Family 6 Model 60 Stepping 3, GenuineIntel\n",
      "CPU cores  : 8\n",
      "interpreter: 64bit\n",
      " \n",
      "last updated: Thu Mar 12 2020 16:04:44 W. Europe Standard Time\n"
     ]
    }
   ],
   "source": [
    "%load_ext watermark\n",
    "%watermark -v -m -p numpy,pandas,matplotlib,sklearn,traitlets,IPython,ipywidgets\n",
    "\n",
    "# date\n",
    "print(\" \")\n",
    "%watermark -u -n -t -z"
   ]
  }
 ],
 "metadata": {
  "kernelspec": {
   "display_name": "Python 3",
   "language": "python",
   "name": "python3"
  },
  "language_info": {
   "codemirror_mode": {
    "name": "ipython",
    "version": 3
   },
   "file_extension": ".py",
   "mimetype": "text/x-python",
   "name": "python",
   "nbconvert_exporter": "python",
   "pygments_lexer": "ipython3",
   "version": "3.7.6"
  }
 },
 "nbformat": 4,
 "nbformat_minor": 2
}
