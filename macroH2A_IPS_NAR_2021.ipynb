{
 "cells": [
  {
   "cell_type": "markdown",
   "metadata": {},
   "source": [
    "This notebook was implemented to\n",
    "- compute the *correlation networks* for the three examined experimental conditions: **epi** (Episome), **m11** (macroH2A1.1), and **m12** (macroH2A1.2);\n",
    "- summarize the obtained networks and the counts of genes belonging to **NHEJ**, **DDR not NHEJ**, **Reprogramming**, and **Senescence** pathways, which we represented as bar plots;\n",
    "- export the three biggest m11 networks as SIF and attribute files for easy representation in Cytoscape, since m11 demonstrated to contain most of the genes belonging to NHEJ in its biggest subnetworks (sizes **24, 36, 62**).\n",
    "- finally compute a one-way ANOVA among all conditions (m11, m12, episome) and select the significantly most varying genes to be represented by heatmap"
   ]
  },
  {
   "cell_type": "code",
   "execution_count": 4,
   "metadata": {},
   "outputs": [],
   "source": [
    "import os.path\n",
    "import math\n",
    "\n",
    "import pandas as pd\n",
    "import numpy as np\n",
    "from IPython.display import display\n",
    "\n",
    "from multiprocessing import Pool\n",
    "from functools import partial"
   ]
  },
  {
   "cell_type": "markdown",
   "metadata": {
    "heading_collapsed": true
   },
   "source": [
    "# Importing gene expression data"
   ]
  },
  {
   "cell_type": "code",
   "execution_count": 5,
   "metadata": {
    "hidden": true,
    "pycharm": {
     "name": "#%%\n"
    }
   },
   "outputs": [
    {
     "data": {
      "text/html": [
       "<div>\n",
       "<style scoped>\n",
       "    .dataframe tbody tr th:only-of-type {\n",
       "        vertical-align: middle;\n",
       "    }\n",
       "\n",
       "    .dataframe tbody tr th {\n",
       "        vertical-align: top;\n",
       "    }\n",
       "\n",
       "    .dataframe thead th {\n",
       "        text-align: right;\n",
       "    }\n",
       "</style>\n",
       "<table border=\"1\" class=\"dataframe\">\n",
       "  <thead>\n",
       "    <tr style=\"text-align: right;\">\n",
       "      <th></th>\n",
       "      <th>Gene Symbol</th>\n",
       "      <th>gene_biotype</th>\n",
       "      <th>EPI</th>\n",
       "      <th>3_I</th>\n",
       "      <th>3_II</th>\n",
       "      <th>1_1_1</th>\n",
       "      <th>1_1_2</th>\n",
       "      <th>1_1_3</th>\n",
       "      <th>2_I</th>\n",
       "      <th>2_II</th>\n",
       "      <th>2_III</th>\n",
       "    </tr>\n",
       "  </thead>\n",
       "  <tbody>\n",
       "    <tr>\n",
       "      <th>0</th>\n",
       "      <td>TBC1D3L</td>\n",
       "      <td>protein_coding</td>\n",
       "      <td>7.148288</td>\n",
       "      <td>0.000000</td>\n",
       "      <td>36.919539</td>\n",
       "      <td>0.0</td>\n",
       "      <td>0.000000</td>\n",
       "      <td>0.000000</td>\n",
       "      <td>0.000000</td>\n",
       "      <td>0.000000</td>\n",
       "      <td>0.000000</td>\n",
       "    </tr>\n",
       "    <tr>\n",
       "      <th>4</th>\n",
       "      <td>DNAH5</td>\n",
       "      <td>protein_coding</td>\n",
       "      <td>21.165576</td>\n",
       "      <td>11.080615</td>\n",
       "      <td>12.798294</td>\n",
       "      <td>0.0</td>\n",
       "      <td>0.395609</td>\n",
       "      <td>0.751568</td>\n",
       "      <td>4.215694</td>\n",
       "      <td>2.008978</td>\n",
       "      <td>2.188068</td>\n",
       "    </tr>\n",
       "    <tr>\n",
       "      <th>7</th>\n",
       "      <td>SAP25</td>\n",
       "      <td>protein_coding</td>\n",
       "      <td>0.000000</td>\n",
       "      <td>7.201708</td>\n",
       "      <td>7.178799</td>\n",
       "      <td>0.0</td>\n",
       "      <td>0.000000</td>\n",
       "      <td>0.000000</td>\n",
       "      <td>8.870301</td>\n",
       "      <td>0.000000</td>\n",
       "      <td>0.000000</td>\n",
       "    </tr>\n",
       "    <tr>\n",
       "      <th>10</th>\n",
       "      <td>EYA1</td>\n",
       "      <td>protein_coding</td>\n",
       "      <td>0.000000</td>\n",
       "      <td>25.060854</td>\n",
       "      <td>0.000000</td>\n",
       "      <td>0.0</td>\n",
       "      <td>0.741551</td>\n",
       "      <td>0.000000</td>\n",
       "      <td>0.000000</td>\n",
       "      <td>0.318718</td>\n",
       "      <td>0.000000</td>\n",
       "    </tr>\n",
       "    <tr>\n",
       "      <th>11</th>\n",
       "      <td>CYP39A1</td>\n",
       "      <td>protein_coding</td>\n",
       "      <td>0.000000</td>\n",
       "      <td>0.528252</td>\n",
       "      <td>15.767867</td>\n",
       "      <td>0.0</td>\n",
       "      <td>0.000000</td>\n",
       "      <td>0.000000</td>\n",
       "      <td>0.000000</td>\n",
       "      <td>15.017370</td>\n",
       "      <td>0.000000</td>\n",
       "    </tr>\n",
       "  </tbody>\n",
       "</table>\n",
       "</div>"
      ],
      "text/plain": [
       "   Gene Symbol    gene_biotype        EPI        3_I       3_II  1_1_1  \\\n",
       "0      TBC1D3L  protein_coding   7.148288   0.000000  36.919539    0.0   \n",
       "4        DNAH5  protein_coding  21.165576  11.080615  12.798294    0.0   \n",
       "7        SAP25  protein_coding   0.000000   7.201708   7.178799    0.0   \n",
       "10        EYA1  protein_coding   0.000000  25.060854   0.000000    0.0   \n",
       "11     CYP39A1  protein_coding   0.000000   0.528252  15.767867    0.0   \n",
       "\n",
       "       1_1_2     1_1_3       2_I       2_II     2_III  \n",
       "0   0.000000  0.000000  0.000000   0.000000  0.000000  \n",
       "4   0.395609  0.751568  4.215694   2.008978  2.188068  \n",
       "7   0.000000  0.000000  8.870301   0.000000  0.000000  \n",
       "10  0.741551  0.000000  0.000000   0.318718  0.000000  \n",
       "11  0.000000  0.000000  0.000000  15.017370  0.000000  "
      ]
     },
     "metadata": {},
     "output_type": "display_data"
    }
   ],
   "source": [
    "if os.path.exists(\"./playgrounds/data/NAR_2021/CTL_vs_macroH2A11_epi.xlsx\"):\n",
    "    m11_file = \"./playgrounds/data/NAR_2021/CTL_vs_macroH2A11_epi.xlsx\"\n",
    "    m11_file_huv = './playgrounds/data/NAR_2021/HUVEC_vs_macroH2A11_epi.xlsx'\n",
    "    m12_file = \"./playgrounds/data/NAR_2021/CTL_vs_macroH2A12_epi.xlsx\"\n",
    "    m11_vs_m12_file = \"./playgrounds/data/NAR_2021/macroH2A11_epi_vs_macroH2A12_epi.xlsx\"\n",
    "    gene_lists =  pd.read_excel(\"./playgrounds/data/NAR_2021/gene_lists_24012021.xls\", sheet_name=\"lists\")\n",
    "    \n",
    "    import macroH2A_IPS_NAR_2021_workers\n",
    "elif not os.path.exists(\"./data/NAR_2021/CTL_vs_macroH2A11_epi.xlsx\"):\n",
    "    ## Conditional branch for Google Colab\n",
    "    !git clone https://github.com/mazzalab/playgrounds.git\n",
    "    m11_file = \"./playgrounds/data/NAR_2021/CTL_vs_macroH2A11_epi.xlsx\"\n",
    "    m11_file_huv = './playgrounds/data/NAR_2021/HUVEC_vs_macroH2A11_epi.xlsx'\n",
    "    m12_file = \"./playgrounds/data/NAR_2021/CTL_vs_macroH2A12_epi.xlsx\"\n",
    "    m11_vs_m12_file = \"./playgrounds/data/NAR_2021/macroH2A11_epi_vs_macroH2A12_epi.xlsx\"\n",
    "    gene_lists =  pd.read_excel(\"./playgrounds/data/NAR_2021/gene_lists_24012021.xls\", sheet_name=\"lists\")\n",
    "    \n",
    "    ## Import the worker function for parallel computing\n",
    "    import playgrounds.macroH2A_IPS_NAR_2021_workers\n",
    "    ## Install Pyntacle\n",
    "    !pip install pyntacle==1.3.2\n",
    "else:\n",
    "    m11_file = \"data/NAR_2021/CTL_vs_macroH2A11_epi.xlsx\"\n",
    "    m11_file_huv = 'data/NAR_2021/HUVEC_vs_macroH2A11_epi.xlsx'\n",
    "    m12_file = \"data/NAR_2021/CTL_vs_macroH2A12_epi.xlsx\"\n",
    "    m11_vs_m12_file = \"data/NAR_2021/macroH2A11_epi_vs_macroH2A12_epi.xlsx\"\n",
    "    gene_lists =  pd.read_excel(\"data/NAR_2021/gene_lists_24012021.xls\", sheet_name=\"lists\")\n",
    "    \n",
    "    import macroH2A_IPS_NAR_2021_workers\n",
    "    \n",
    "m11_m12_epi = pd.read_excel(m11_file, sheet_name=\"CTL_vs_macroH2A11_epi\", \n",
    "                            index_col=None, na_values=['NA'], usecols = \"A,C,J:R\", engine='openpyxl')\n",
    "m11_m12_epi = m11_m12_epi.loc[m11_m12_epi['gene_biotype'] == \"protein_coding\"]\n",
    "\n",
    "m11_m12_huv = pd.read_excel(m11_file_huv, sheet_name=\"HUVEC_vs_macroH2A11_epi\", \n",
    "                            index_col=None, na_values=['NA'], usecols = \"A,C,M:U\", engine='openpyxl')\n",
    "m11_m12_huv = m11_m12_huv.loc[m11_m12_huv['gene_biotype'] == \"protein_coding\"]\n",
    "\n",
    "epi_vs_m11 = pd.read_excel(m11_file, sheet_name=\"CTL_vs_macroH2A11_epi\", \n",
    "                           index_col=None, na_values=['NA'], usecols = \"A,E,H\", engine='openpyxl')\n",
    "epi_vs_m12 = pd.read_excel(m12_file, sheet_name=\"CTL_vs_macroH2A12_epi\", \n",
    "                           index_col=None, na_values=['NA'], usecols = \"A,E,H\", engine='openpyxl')\n",
    "m11_vs_m12 = pd.read_excel(m11_vs_m12_file, sheet_name=\"macroH2A11+epi vs macroH2A12+ep\", \n",
    "                           index_col=None, na_values=['NA'], usecols = \"A,E,H\", engine='openpyxl')\n",
    "\n",
    "display(m11_m12_epi.head())"
   ]
  },
  {
   "cell_type": "markdown",
   "metadata": {
    "heading_collapsed": true
   },
   "source": [
    "# Analysis of relationships"
   ]
  },
  {
   "cell_type": "markdown",
   "metadata": {
    "heading_collapsed": true,
    "hidden": true
   },
   "source": [
    "## macroH2A1.1"
   ]
  },
  {
   "cell_type": "code",
   "execution_count": 10,
   "metadata": {
    "hidden": true
   },
   "outputs": [],
   "source": [
    "temp = m11_m12_epi.iloc[:,5:8]\n",
    "temp.index = m11_m12_epi.iloc[:,0]\n",
    "\n",
    "# remove genes with more than one zero\n",
    "temp = temp[(temp == 0).sum(1) < 2]"
   ]
  },
  {
   "cell_type": "code",
   "execution_count": null,
   "metadata": {
    "hidden": true
   },
   "outputs": [],
   "source": [
    "num_processors = 5\n",
    "\n",
    "#Create a pool of processors\n",
    "p=Pool(processes = num_processors)\n",
    "func = partial(macroH2A_IPS_NAR_2021_workers.range_calc_Cor, temp)\n",
    "\n",
    "chunklen = math.ceil(temp.shape[0] / num_processors)\n",
    "chunks = [range(0, temp.shape[0])[i * chunklen:(i + 1) * chunklen] for i in range(num_processors)]\n",
    "\n",
    "#get them to work in parallel - highly intensive !!\n",
    "output = p.map(func, [chunk for chunk in chunks])\n",
    "# output = p.map(func, [i for i in range(0, temp.shape[0])])\n",
    "p.close()\n",
    "\n",
    "m11_cor = np.vstack(output)\n",
    "print(m11_cor)"
   ]
  },
  {
   "cell_type": "code",
   "execution_count": 5,
   "metadata": {
    "hidden": true
   },
   "outputs": [],
   "source": [
    "m11_cor_df = pd.DataFrame (m11_cor)\n",
    "m11_cor_df.columns = temp.index\n",
    "m11_cor_df = m11_cor_df.set_index(temp.index)\n",
    "m11_cor_df.to_csv(\"m11_cor_df.txt\", sep=\"\\t\", header=True, index=True)"
   ]
  },
  {
   "cell_type": "markdown",
   "metadata": {
    "heading_collapsed": true,
    "hidden": true
   },
   "source": [
    "## macroH2A1.2"
   ]
  },
  {
   "cell_type": "code",
   "execution_count": 9,
   "metadata": {
    "hidden": true
   },
   "outputs": [],
   "source": [
    "temp = m11_m12_huv.iloc[:,8:11]\n",
    "temp.index = m11_m12_huv.iloc[:,0]\n",
    "\n",
    "# remove genes more than one zero\n",
    "temp = temp[(temp == 0).sum(1) < 2]"
   ]
  },
  {
   "cell_type": "code",
   "execution_count": 10,
   "metadata": {
    "hidden": true
   },
   "outputs": [
    {
     "name": "stdout",
     "output_type": "stream",
     "text": [
      "[[0 0 0 ... 0 0 0]\n",
      " [0 0 0 ... 0 -0.9975208980091912 -0.9976873881590403]\n",
      " [0 0 0 ... 0 0 0]\n",
      " ...\n",
      " [0 0 0 ... 0 0.9998810590275212 0]\n",
      " [0 0 0 ... 0 0 0]\n",
      " [0 0 0 ... 0 0 0]]\n"
     ]
    }
   ],
   "source": [
    "num_processors = 5\n",
    "\n",
    "#Create a pool of processors\n",
    "p=Pool(processes = num_processors)\n",
    "func = partial(macroH2A_IPS_NAR_2021_workers.range_calc_Cor, temp)\n",
    "\n",
    "chunklen = math.ceil(temp.shape[0] / num_processors)\n",
    "chunks = [range(0, temp.shape[0])[i * chunklen:(i + 1) * chunklen] for i in range(num_processors)]\n",
    "\n",
    "#get them to work in parallel - highly intensive !!\n",
    "output = p.map(func, [chunk for chunk in chunks])\n",
    "p.close()\n",
    "\n",
    "m12_cor = np.vstack(output)\n",
    "print(m12_cor)"
   ]
  },
  {
   "cell_type": "code",
   "execution_count": 11,
   "metadata": {
    "hidden": true
   },
   "outputs": [],
   "source": [
    "m12_cor_df = pd.DataFrame (m12_cor)\n",
    "m12_cor_df.columns = temp.index\n",
    "m12_cor_df = m12_cor_df.set_index(temp.index)\n",
    "m12_cor_df.to_csv(\"m12_cor_df.txt\", sep=\"\\t\", header=True, index=True)"
   ]
  },
  {
   "cell_type": "markdown",
   "metadata": {
    "heading_collapsed": true,
    "hidden": true
   },
   "source": [
    "## Episome"
   ]
  },
  {
   "cell_type": "code",
   "execution_count": 5,
   "metadata": {
    "hidden": true
   },
   "outputs": [
    {
     "data": {
      "text/html": [
       "<div>\n",
       "<style scoped>\n",
       "    .dataframe tbody tr th:only-of-type {\n",
       "        vertical-align: middle;\n",
       "    }\n",
       "\n",
       "    .dataframe tbody tr th {\n",
       "        vertical-align: top;\n",
       "    }\n",
       "\n",
       "    .dataframe thead th {\n",
       "        text-align: right;\n",
       "    }\n",
       "</style>\n",
       "<table border=\"1\" class=\"dataframe\">\n",
       "  <thead>\n",
       "    <tr style=\"text-align: right;\">\n",
       "      <th></th>\n",
       "      <th>EPI</th>\n",
       "      <th>3_I</th>\n",
       "      <th>3_II</th>\n",
       "    </tr>\n",
       "    <tr>\n",
       "      <th>Gene Symbol</th>\n",
       "      <th></th>\n",
       "      <th></th>\n",
       "      <th></th>\n",
       "    </tr>\n",
       "  </thead>\n",
       "  <tbody>\n",
       "    <tr>\n",
       "      <th>TBC1D3L</th>\n",
       "      <td>7.148288</td>\n",
       "      <td>0.000000</td>\n",
       "      <td>36.919539</td>\n",
       "    </tr>\n",
       "    <tr>\n",
       "      <th>DNAH5</th>\n",
       "      <td>21.165576</td>\n",
       "      <td>11.080615</td>\n",
       "      <td>12.798294</td>\n",
       "    </tr>\n",
       "    <tr>\n",
       "      <th>SAP25</th>\n",
       "      <td>0.000000</td>\n",
       "      <td>7.201708</td>\n",
       "      <td>7.178799</td>\n",
       "    </tr>\n",
       "    <tr>\n",
       "      <th>CYP39A1</th>\n",
       "      <td>0.000000</td>\n",
       "      <td>0.528252</td>\n",
       "      <td>15.767867</td>\n",
       "    </tr>\n",
       "    <tr>\n",
       "      <th>KCNMA1</th>\n",
       "      <td>2.125832</td>\n",
       "      <td>6.211489</td>\n",
       "      <td>12.575072</td>\n",
       "    </tr>\n",
       "  </tbody>\n",
       "</table>\n",
       "</div>"
      ],
      "text/plain": [
       "                   EPI        3_I       3_II\n",
       "Gene Symbol                                 \n",
       "TBC1D3L       7.148288   0.000000  36.919539\n",
       "DNAH5        21.165576  11.080615  12.798294\n",
       "SAP25         0.000000   7.201708   7.178799\n",
       "CYP39A1       0.000000   0.528252  15.767867\n",
       "KCNMA1        2.125832   6.211489  12.575072"
      ]
     },
     "execution_count": 5,
     "metadata": {},
     "output_type": "execute_result"
    }
   ],
   "source": [
    "temp = m11_m12_epi.iloc[:,2:5]\n",
    "temp.index = m11_m12_epi.iloc[:,0]\n",
    "\n",
    "# remove genes that contain more than one zero\n",
    "temp = temp[(temp == 0).sum(1) < 2]\n",
    "temp.head()"
   ]
  },
  {
   "cell_type": "code",
   "execution_count": 6,
   "metadata": {
    "hidden": true
   },
   "outputs": [
    {
     "name": "stdout",
     "output_type": "stream",
     "text": [
      "[[0 0 0 ... 0 0 0]\n",
      " [0 0 0 ... 0 0 0]\n",
      " [0 0 0 ... 0 0 0]\n",
      " ...\n",
      " [0 0 0 ... 0 (-0.9979656578155047, 0.04061446866363006) 0]\n",
      " [0 0 0 ... 0 0 0]\n",
      " [0 0 0 ... 0 0 0]]\n"
     ]
    }
   ],
   "source": [
    "num_processors = 5\n",
    "\n",
    "#Create a pool of processors\n",
    "p=Pool(processes = num_processors)\n",
    "func = partial(macroH2A_IPS_NAR_2021_workers.range_calc_Cor, temp)\n",
    "\n",
    "chunklen = math.ceil(temp.shape[0] / num_processors)\n",
    "chunks = [range(0, temp.shape[0])[i * chunklen:(i + 1) * chunklen] for i in range(num_processors)]\n",
    "\n",
    "#get them to work in parallel - highly intensive !!\n",
    "output = p.map(func, [chunk for chunk in chunks])\n",
    "p.close()\n",
    "\n",
    "epi_cor = np.vstack(output)\n",
    "print(epi_cor)"
   ]
  },
  {
   "cell_type": "code",
   "execution_count": null,
   "metadata": {
    "hidden": true
   },
   "outputs": [],
   "source": [
    "epi_cor_df = pd.DataFrame(epi_cor)\n",
    "epi_cor_df.columns = temp.index\n",
    "epi_cor_df = epi_cor_df.set_index(temp.index)\n",
    "epi_cor_df.to_csv(\"epi_cor_df.txt\", sep=\"\\t\", header=True, index=True)"
   ]
  },
  {
   "cell_type": "markdown",
   "metadata": {
    "heading_collapsed": true,
    "hidden": true
   },
   "source": [
    "## Format and filter datasets"
   ]
  },
  {
   "cell_type": "code",
   "execution_count": 65,
   "metadata": {
    "hidden": true
   },
   "outputs": [],
   "source": [
    "## Load from file if needed\n",
    "# m11_cor_df = pd.read_csv(\"m11_cor_df.txt\", sep=\"\\t\", dtype=object, index_col='Genes')\n",
    "# m12_cor_df = pd.read_csv(\"m12_cor_df.txt\", sep=\"\\t\", dtype=object, index_col='Genes')\n",
    "# epi_cor_df = pd.read_csv(\"epi_cor_df.txt\", sep=\"\\t\", dtype=object, index_col='Genes')"
   ]
  },
  {
   "cell_type": "markdown",
   "metadata": {
    "hidden": true
   },
   "source": [
    "### Episome"
   ]
  },
  {
   "cell_type": "code",
   "execution_count": 67,
   "metadata": {
    "hidden": true
   },
   "outputs": [],
   "source": [
    "epi_cor_conn_df = epi_cor_df.reset_index().melt(id_vars='Genes').query('value != 0')\n",
    "epi_cor_conn_df = epi_cor_conn_df[epi_cor_conn_df['value']!='0']\n",
    "\n",
    "epi_cor_conn_df.set_index(epi_cor_conn_df['Genes'], inplace=True)\n",
    "epi_cor_conn_df['value2'] = [eval(x) for x in epi_cor_conn_df['value'].to_numpy()]\n",
    "epi_cor_conn_df[['b1', 'b2']] = pd.DataFrame(epi_cor_conn_df['value2'].tolist(), index=epi_cor_conn_df.index)\n",
    "epi_cor_conn_df = epi_cor_conn_df.drop(['value', 'value2'], axis=1)\n",
    "epi_cor_conn_df.columns = [\"Gene Symbol A\", \"Gene Symbol B\", \"Corr\", \"p_value\"]\n",
    "epi_cor_conn_df[['adj_p_value']] = macroH2A_IPS_NAR_2021_workers.fdr(epi_cor_conn_df['p_value'])\n",
    "\n",
    "epi_cor_conn_df = epi_cor_conn_df[(epi_cor_conn_df['adj_p_value'] <0.01)]\n",
    "\n",
    "epi_cor_conn_df.to_csv(\"epi_cor_conn_filtered.txt\", sep=\"\\t\", header=True, index=True)\n",
    "epi_cor_conn_df.head()"
   ]
  },
  {
   "cell_type": "markdown",
   "metadata": {
    "hidden": true
   },
   "source": [
    "### macroH2A1.1"
   ]
  },
  {
   "cell_type": "code",
   "execution_count": null,
   "metadata": {
    "hidden": true
   },
   "outputs": [],
   "source": [
    "m11_cor_conn_df = m11_cor_df.reset_index().melt(id_vars='Genes').query('value != 0')\n",
    "m11_cor_conn_df = m11_cor_conn_df[m11_cor_conn_df['value']!='0']\n",
    "\n",
    "m11_cor_conn_df.set_index(m11_cor_conn_df['Genes'], inplace=True)\n",
    "m11_cor_conn_df['value2'] = [eval(x) for x in m11_cor_conn_df['value'].to_numpy()]\n",
    "m11_cor_conn_df[['b1', 'b2']] = pd.DataFrame(m11_cor_conn_df['value2'].tolist(), index=m11_cor_conn_df.index)\n",
    "m11_cor_conn_df = m11_cor_conn_df.drop(['value', 'value2'], axis=1)\n",
    "m11_cor_conn_df.columns = [\"Gene Symbol A\", \"Gene Symbol B\", \"Corr\", \"p_value\"]\n",
    "m11_cor_conn_df[['adj_p_value']] = macroH2A_IPS_NAR_2021_workers.fdr(m11_cor_conn_df['p_value'])\n",
    "\n",
    "m11_cor_conn_df = m11_cor_conn_df[(m11_cor_conn_df['adj_p_value'] <0.01)]\n",
    "\n",
    "m11_cor_conn_df.to_csv(\"m11_cor_conn_filtered.txt\", sep=\"\\t\", header=True, index=True)\n",
    "m11_cor_conn_df.head()"
   ]
  },
  {
   "cell_type": "markdown",
   "metadata": {
    "hidden": true
   },
   "source": [
    "### macroH2A1.2"
   ]
  },
  {
   "cell_type": "code",
   "execution_count": null,
   "metadata": {
    "hidden": true
   },
   "outputs": [],
   "source": [
    "m12_cor_conn_df = m12_cor_df.reset_index().melt(id_vars='Genes').query('value != 0')\n",
    "m12_cor_conn_df = m12_cor_conn_df[m12_cor_conn_df['value']!='0']\n",
    "\n",
    "m12_cor_conn_df.set_index(m12_cor_conn_df['Genes'], inplace=True)\n",
    "m12_cor_conn_df['value2'] = [eval(x) for x in m12_cor_conn_df['value'].to_numpy()]\n",
    "m12_cor_conn_df[['b1', 'b2']] = pd.DataFrame(m12_cor_conn_df['value2'].tolist(), index=m12_cor_conn_df.index)\n",
    "m12_cor_conn_df = m12_cor_conn_df.drop(['value', 'value2'], axis=1)\n",
    "m12_cor_conn_df.columns = [\"Gene Symbol A\", \"Gene Symbol B\", \"Corr\", \"p_value\"]\n",
    "m12_cor_conn_df[['adj_p_value']] = macroH2A_IPS_NAR_2021_workers.fdr(m12_cor_conn_df['p_value'])\n",
    "\n",
    "m12_cor_conn_df = m12_cor_conn_df[(m12_cor_conn_df['adj_p_value'] <0.01)]\n",
    "\n",
    "m12_cor_conn_df.to_csv(\"m12_cor_conn_filtered.txt\", sep=\"\\t\", header=True, index=True)\n",
    "m12_cor_conn_df.head()"
   ]
  },
  {
   "cell_type": "markdown",
   "metadata": {
    "heading_collapsed": true
   },
   "source": [
    "# Plotting results"
   ]
  },
  {
   "cell_type": "code",
   "execution_count": 135,
   "metadata": {
    "hidden": true
   },
   "outputs": [
    {
     "name": "stdout",
     "output_type": "stream",
     "text": [
      "SIF from epi_cor_conn_filtered.sif imported\n",
      "SIF from m11_cor_conn_filtered_df.sif imported\n",
      "SIF from m12_cor_conn_filtered_df.sif imported\n"
     ]
    }
   ],
   "source": [
    "from pyntacle.io_stream.importer import PyntacleImporter\n",
    "g_epi = PyntacleImporter.Sif(\"epi_cor_conn_filtered.sif\")\n",
    "g_m11 = PyntacleImporter.Sif(\"m11_cor_conn_filtered_df.sif\")\n",
    "g_m12 = PyntacleImporter.Sif(\"m12_cor_conn_filtered_df.sif\")"
   ]
  },
  {
   "cell_type": "markdown",
   "metadata": {
    "heading_collapsed": true,
    "hidden": true
   },
   "source": [
    "## Select components that contain at least one gene of the lists above"
   ]
  },
  {
   "cell_type": "code",
   "execution_count": 227,
   "metadata": {
    "hidden": true
   },
   "outputs": [],
   "source": [
    "cc_epi = g_epi.clusters()\n",
    "cc_epi = [c.vs[\"name\"] for c in cc_epi.subgraphs() if c.vcount() >2 and \n",
    "          (set(c.vs[\"name\"]).intersection(gene_lists['NHEJ'].tolist()) or \n",
    "           (set(c.vs[\"name\"]).intersection(gene_lists['Senescence'].tolist())) or \n",
    "           (set(c.vs[\"name\"]).intersection(gene_lists['Reprogramming'].tolist())) or \n",
    "           (set(c.vs[\"name\"]).intersection(gene_lists['DDR_not_NHEJ'].tolist()))\n",
    "          )]\n",
    "\n",
    "cc_m11 = g_m11.clusters()\n",
    "cc_m11 = [c.vs[\"name\"] for c in cc_m11.subgraphs() if c.vcount() >2 and \n",
    "          (set(c.vs[\"name\"]).intersection(gene_lists['NHEJ'].tolist()) or \n",
    "           (set(c.vs[\"name\"]).intersection(gene_lists['Senescence'].tolist())) or \n",
    "           (set(c.vs[\"name\"]).intersection(gene_lists['Reprogramming'].tolist())) or \n",
    "           (set(c.vs[\"name\"]).intersection(gene_lists['DDR_not_NHEJ'].tolist()))\n",
    "          )]\n",
    "\n",
    "cc_m12 = g_m12.clusters()\n",
    "cc_m12 = [c.vs[\"name\"] for c in cc_m12.subgraphs() if c.vcount() >2 and \n",
    "          (set(c.vs[\"name\"]).intersection(gene_lists['NHEJ'].tolist()) or \n",
    "           (set(c.vs[\"name\"]).intersection(gene_lists['Senescence'].tolist())) or \n",
    "           (set(c.vs[\"name\"]).intersection(gene_lists['Reprogramming'].tolist())) or \n",
    "           (set(c.vs[\"name\"]).intersection(gene_lists['DDR_not_NHEJ'].tolist()))\n",
    "          )]\n"
   ]
  },
  {
   "cell_type": "code",
   "execution_count": 270,
   "metadata": {
    "hidden": true
   },
   "outputs": [],
   "source": [
    "import matplotlib.pyplot as plt\n",
    "from matplotlib.ticker import MultipleLocator\n",
    "%matplotlib inline\n",
    "\n",
    "plt.rcParams.update({'figure.figsize':(2.8,1.5), 'figure.dpi':300})\n",
    "plt.rcParams.update({'font.size': 7})"
   ]
  },
  {
   "cell_type": "code",
   "execution_count": 229,
   "metadata": {
    "hidden": true
   },
   "outputs": [
    {
     "data": {
      "image/png": "[encoded data removed]",
      "text/plain": [
       "<Figure size 840x450 with 1 Axes>"
      ]
     },
     "metadata": {
      "needs_background": "light"
     },
     "output_type": "display_data"
    }
   ],
   "source": [
    "kwargs_m11 = dict(alpha=0.5, bins=30)\n",
    "kwargs_m12 = dict(alpha=0.5, bins=3)\n",
    "kwargs_epi = dict(alpha=0.5, bins=3)\n",
    "\n",
    "temp_cc_m11 = [len(c) for c in cc_m11]\n",
    "temp_cc_m12 = [len(c) for c in cc_m12]\n",
    "temp_cc_epi = [len(c) for c in cc_epi]\n",
    "\n",
    "plt.hist(temp_cc_m11, **kwargs_m11, color='g', label='macroH2A1.1')\n",
    "plt.hist(temp_cc_m12, **kwargs_m12, color='b', label='macroH2A1.2')\n",
    "plt.hist(temp_cc_epi, **kwargs_epi, color='r', label='episome')\n",
    "\n",
    "plt.gca().set(ylabel='frequency', xlabel='network size')  # title='Frequency Histogram', \n",
    "plt.xticks(np.arange(min(min(temp_cc_m11), min(temp_cc_epi), min(temp_cc_m12)), \n",
    "                     max(max(temp_cc_m11), max(temp_cc_epi), max(temp_cc_m12))+2, \n",
    "                     5))\n",
    "plt.yticks(np.arange(0,20,2))\n",
    "\n",
    "# plt.xlim(50,75)\n",
    "plt.legend()\n",
    "\n",
    "plt.savefig(\"FigureXX_A.svg\")"
   ]
  },
  {
   "cell_type": "markdown",
   "metadata": {
    "heading_collapsed": true,
    "hidden": true
   },
   "source": [
    "## Count genes in gene lists for the clusters of sizes > 2 of mH2A1.1 co-expression network"
   ]
  },
  {
   "cell_type": "code",
   "execution_count": 254,
   "metadata": {
    "hidden": true
   },
   "outputs": [],
   "source": [
    "cc_m11 = g_m11.clusters()\n",
    "cc_m11_ddr_not_nhej = [(set(c.vs[\"name\"]).intersection(gene_lists['DDR_not_NHEJ'].tolist()), len(c.vs[\"name\"])) \n",
    "               for c \n",
    "               in cc_m11.subgraphs() if c.vcount() >2 and set(c.vs[\"name\"]).intersection(gene_lists['DDR_not_NHEJ'].tolist())]\n",
    "\n",
    "cc_m11_nhej = [(set(c.vs[\"name\"]).intersection(gene_lists['NHEJ'].tolist()), len(c.vs[\"name\"])) \n",
    "               for c \n",
    "               in cc_m11.subgraphs() if c.vcount() >2 and set(c.vs[\"name\"]).intersection(gene_lists['NHEJ'].tolist())]\n",
    "\n",
    "cc_m11_reprogramming = [(set(c.vs[\"name\"]).intersection(gene_lists['Reprogramming'].tolist()), len(c.vs[\"name\"])) \n",
    "               for c \n",
    "               in cc_m11.subgraphs() if c.vcount() >2 and set(c.vs[\"name\"]).intersection(gene_lists['Reprogramming'].tolist())]\n",
    "\n",
    "cc_m11_senescence = [(set(c.vs[\"name\"]).intersection(gene_lists['Senescence'].tolist()), len(c.vs[\"name\"])) \n",
    "               for c \n",
    "               in cc_m11.subgraphs() if c.vcount() >2 and set(c.vs[\"name\"]).intersection(gene_lists['Senescence'].tolist())]"
   ]
  },
  {
   "cell_type": "code",
   "execution_count": 291,
   "metadata": {
    "hidden": true
   },
   "outputs": [
    {
     "data": {
      "image/png": "[encoded data removed]",
      "text/plain": [
       "<Figure size 840x450 with 1 Axes>"
      ]
     },
     "metadata": {
      "needs_background": "light"
     },
     "output_type": "display_data"
    }
   ],
   "source": [
    "from collections import Counter\n",
    "\n",
    "z = [x[1] for x in cc_m11_ddr_not_nhej]\n",
    "counter_cc_m11_ddr_not_nhej = Counter(z)\n",
    "\n",
    "z = [x[1] for x in cc_m11_nhej]\n",
    "counter_cc_m11_nhej = Counter(z)\n",
    "\n",
    "z = [x[1] for x in cc_m11_reprogramming]\n",
    "counter_cc_m11_reprogramming = Counter(z)\n",
    "\n",
    "z = [x[1] for x in cc_m11_senescence]\n",
    "counter_cc_m11_senescence = Counter(z)\n",
    "\n",
    "labels = counter_cc_m11_ddr_not_nhej + counter_cc_m11_reprogramming + counter_cc_m11_nhej + counter_cc_m11_senescence\n",
    "# labels.most_common()\n",
    "labels = [x[0] for x in sorted(labels.items())]\n",
    "zero_dict = dict(zip(labels, [0] * len(labels)))\n",
    "\n",
    "dict_cc_m11_ddr_not_nhej = {**zero_dict, **counter_cc_m11_ddr_not_nhej}\n",
    "dict_cc_m11_nhej = {**zero_dict, **counter_cc_m11_nhej}\n",
    "dict_cc_m11_reprogramming = {**zero_dict, **counter_cc_m11_reprogramming}\n",
    "dict_cc_m11_senescence = {**zero_dict, **counter_cc_m11_senescence}\n",
    "\n",
    "counts_m11_ddr_not_nhej = list(dict_cc_m11_ddr_not_nhej.values())\n",
    "counts_cc_m11_nhej = list(dict_cc_m11_nhej.values())\n",
    "counts_cc_m11_reprogramming = list(dict_cc_m11_reprogramming.values())\n",
    "counts_cc_m11_senescence = list(dict_cc_m11_senescence.values())\n",
    "\n",
    "x = np.arange(len(labels))  # the label locations\n",
    "width = 0.20\n",
    "\n",
    "fig, ax = plt.subplots()\n",
    "rects1 = ax.bar(x - width*2, counts_m11_ddr_not_nhej, width, label='DDR not NHEJ', align='edge', color='#d55e00')\n",
    "rects2 = ax.bar(x - width, counts_cc_m11_nhej, width, label='NHEJ', align='edge', color='#009e73')\n",
    "rects3 = ax.bar(x, counts_cc_m11_reprogramming, width, label='Reprogramming', align='edge', color='#0072b2')\n",
    "rects4 = ax.bar(x + width, counts_cc_m11_senescence, width, label='Senescence', align='edge', color='#f0e442')\n",
    "\n",
    "ax.set_ylabel('frequency')\n",
    "ax.set_xlabel('network size (macroH2A1.1)')\n",
    "# ax.set_title('Scores by group and gender')\n",
    "ax.set_xticks(x)\n",
    "ax.set_xticklabels(labels)\n",
    "ax.yaxis.set_minor_locator(MultipleLocator(1))\n",
    "ax.legend()\n",
    "\n",
    "plt.savefig(\"FigureXX_B.svg\")"
   ]
  },
  {
   "cell_type": "markdown",
   "metadata": {
    "heading_collapsed": true,
    "hidden": true
   },
   "source": [
    "## Create network (sif) and attribute files for cluster (size 62) of macroH2A1.1"
   ]
  },
  {
   "cell_type": "code",
   "execution_count": 323,
   "metadata": {
    "hidden": true
   },
   "outputs": [
    {
     "name": "stdout",
     "output_type": "stream",
     "text": [
      "Graph successfully exported to SIF at full path:\n",
      "/scratch/tom/playgrounds/g_m11_62.sif\n"
     ]
    }
   ],
   "source": [
    "cc_m11 = g_m11.clusters()\n",
    "cc_m11_62 = [c for c in cc_m11.subgraphs() if c.vcount() == 62][0]\n",
    "cc_m11_62_nodes = pd.DataFrame(cc_m11_62.vs[\"name\"])\n",
    "cc_m11_62_nodes = cc_m11_62_nodes.rename(columns={0: 'Node'})\n",
    "cc_m11_62_nodes[[\"NHEJ\"]] = [c in gene_lists['NHEJ'].tolist() for c in cc_m11_62_nodes['Node']]\n",
    "cc_m11_62_nodes[[\"DDR_not_NHEJ\"]] = [c in gene_lists['DDR_not_NHEJ'].tolist() for c in cc_m11_62_nodes['Node']]\n",
    "cc_m11_62_nodes[[\"Reprogramming\"]] = [c in gene_lists['Reprogramming'].tolist() for c in cc_m11_62_nodes['Node']]\n",
    "cc_m11_62_nodes[[\"Senescence\"]] = [c in gene_lists['Senescence'].tolist() for c in cc_m11_62_nodes['Node']]\n",
    "\n",
    "diff_expr = [x['Gene Symbol'] for index, x in epi_vs_m11.iterrows() if \n",
    "             x['pvalue']<0.05 and (x['log2FoldChange'] > 1 or x['log2FoldChange'] < -1)]\n",
    "cc_m11_62_nodes[[\"DEG\"]] = [c['Node'] in diff_expr for index2, c in cc_m11_62_nodes.iterrows()]\n",
    "\n",
    "cc_m11_62_nodes.to_csv(\"g_m11_62_nodes_attributes.tsv\", index = False, header=True, sep='\\t')\n",
    "cc_m11_62_nodes.head()\n",
    "\n",
    "from pyntacle.io_stream.exporter import PyntacleExporter\n",
    "PyntacleExporter.Sif(file='g_m11_62.sif', graph=cc_m11_62, header=True)"
   ]
  },
  {
   "cell_type": "markdown",
   "metadata": {
    "heading_collapsed": true,
    "hidden": true
   },
   "source": [
    "## Create network (sif) and attribute files for cluster (size 36) of macroH2A1.1"
   ]
  },
  {
   "cell_type": "code",
   "execution_count": 373,
   "metadata": {
    "hidden": true
   },
   "outputs": [
    {
     "name": "stdout",
     "output_type": "stream",
     "text": [
      "Graph successfully exported to SIF at full path:\n",
      "/scratch/tom/playgrounds/g_m11_36.sif\n"
     ]
    }
   ],
   "source": [
    "cc_m11_36 = [c for c in cc_m11.subgraphs() if c.vcount() == 36][0]\n",
    "cc_m11_36_nodes = pd.DataFrame(cc_m11_36.vs[\"name\"])\n",
    "cc_m11_36_nodes = cc_m11_36_nodes.rename(columns={0: 'Node'})\n",
    "cc_m11_36_nodes[[\"NHEJ\"]] = [c in gene_lists['NHEJ'].tolist() for c in cc_m11_36_nodes['Node']]\n",
    "cc_m11_36_nodes[[\"DDR_not_NHEJ\"]] = [c in gene_lists['DDR_not_NHEJ'].tolist() for c in cc_m11_36_nodes['Node']]\n",
    "cc_m11_36_nodes[[\"Reprogramming\"]] = [c in gene_lists['Reprogramming'].tolist() for c in cc_m11_36_nodes['Node']]\n",
    "cc_m11_36_nodes[[\"Senescence\"]] = [c in gene_lists['Senescence'].tolist() for c in cc_m11_36_nodes['Node']]\n",
    "\n",
    "diff_expr = [x['Gene Symbol'] for index, x in epi_vs_m11.iterrows() if \n",
    "             x['pvalue']<0.05 and (x['log2FoldChange'] > 1 or x['log2FoldChange'] < -1)]\n",
    "cc_m11_36_nodes[[\"DEG\"]] = [c['Node'] in diff_expr for index2, c in cc_m11_36_nodes.iterrows()]\n",
    "\n",
    "cc_m11_36_nodes.to_csv(\"g_m11_36_nodes_attributes.tsv\", index = False, header=True, sep='\\t')\n",
    "cc_m11_36_nodes.head()\n",
    "\n",
    "from pyntacle.io_stream.exporter import PyntacleExporter\n",
    "PyntacleExporter.Sif(file='g_m11_36.sif', graph=cc_m11_36, header=True)"
   ]
  },
  {
   "cell_type": "markdown",
   "metadata": {
    "heading_collapsed": true,
    "hidden": true
   },
   "source": [
    "## Create network (sif) and attribute files for cluster (size 24) of macroH2A1.1"
   ]
  },
  {
   "cell_type": "code",
   "execution_count": 380,
   "metadata": {
    "hidden": true
   },
   "outputs": [
    {
     "name": "stdout",
     "output_type": "stream",
     "text": [
      "Graph successfully exported to SIF at full path:\n",
      "/scratch/tom/playgrounds/g_m11_24.sif\n"
     ]
    }
   ],
   "source": [
    "cc_m11_24 = [c for c in cc_m11.subgraphs() if c.vcount() == 24][1]\n",
    "cc_m11_24_nodes = pd.DataFrame(cc_m11_24.vs[\"name\"])\n",
    "cc_m11_24_nodes = cc_m11_24_nodes.rename(columns={0: 'Node'})\n",
    "cc_m11_24_nodes[[\"NHEJ\"]] = [c in gene_lists['NHEJ'].tolist() for c in cc_m11_24_nodes['Node']]\n",
    "cc_m11_24_nodes[[\"DDR_not_NHEJ\"]] = [c in gene_lists['DDR_not_NHEJ'].tolist() for c in cc_m11_24_nodes['Node']]\n",
    "cc_m11_24_nodes[[\"Reprogramming\"]] = [c in gene_lists['Reprogramming'].tolist() for c in cc_m11_24_nodes['Node']]\n",
    "cc_m11_24_nodes[[\"Senescence\"]] = [c in gene_lists['Senescence'].tolist() for c in cc_m11_24_nodes['Node']]\n",
    "\n",
    "diff_expr = [x['Gene Symbol'] for index, x in epi_vs_m11.iterrows() if \n",
    "             x['pvalue']<0.05 and (x['log2FoldChange'] > 1 or x['log2FoldChange'] < -1)]\n",
    "cc_m11_24_nodes[[\"DEG\"]] = [c['Node'] in diff_expr for index2, c in cc_m11_24_nodes.iterrows()]\n",
    "\n",
    "cc_m11_24_nodes.to_csv(\"g_m11_24_nodes_attributes.tsv\", index = False, header=True, sep='\\t')\n",
    "cc_m11_24_nodes.head()\n",
    "\n",
    "from pyntacle.io_stream.exporter import PyntacleExporter\n",
    "PyntacleExporter.Sif(file='g_m11_24.sif', graph=cc_m11_24, header=True)"
   ]
  },
  {
   "cell_type": "markdown",
   "metadata": {
    "heading_collapsed": true,
    "hidden": true
   },
   "source": [
    "## Compute ANOVA among all conditions (m11, m12, episome)"
   ]
  },
  {
   "cell_type": "code",
   "execution_count": 324,
   "metadata": {
    "hidden": true
   },
   "outputs": [
    {
     "data": {
      "text/html": [
       "<div>\n",
       "<style scoped>\n",
       "    .dataframe tbody tr th:only-of-type {\n",
       "        vertical-align: middle;\n",
       "    }\n",
       "\n",
       "    .dataframe tbody tr th {\n",
       "        vertical-align: top;\n",
       "    }\n",
       "\n",
       "    .dataframe thead th {\n",
       "        text-align: right;\n",
       "    }\n",
       "</style>\n",
       "<table border=\"1\" class=\"dataframe\">\n",
       "  <thead>\n",
       "    <tr style=\"text-align: right;\">\n",
       "      <th></th>\n",
       "      <th>Gene Symbol</th>\n",
       "      <th>gene_biotype</th>\n",
       "      <th>EPI</th>\n",
       "      <th>3_I</th>\n",
       "      <th>3_II</th>\n",
       "      <th>1_1_1</th>\n",
       "      <th>1_1_2</th>\n",
       "      <th>1_1_3</th>\n",
       "      <th>2_I</th>\n",
       "      <th>2_II</th>\n",
       "      <th>2_III</th>\n",
       "    </tr>\n",
       "  </thead>\n",
       "  <tbody>\n",
       "    <tr>\n",
       "      <th>0</th>\n",
       "      <td>TBC1D3L</td>\n",
       "      <td>protein_coding</td>\n",
       "      <td>7.148288</td>\n",
       "      <td>0.000000</td>\n",
       "      <td>36.919539</td>\n",
       "      <td>0.0</td>\n",
       "      <td>0.000000</td>\n",
       "      <td>0.000000</td>\n",
       "      <td>0.000000</td>\n",
       "      <td>0.000000</td>\n",
       "      <td>0.000000</td>\n",
       "    </tr>\n",
       "    <tr>\n",
       "      <th>4</th>\n",
       "      <td>DNAH5</td>\n",
       "      <td>protein_coding</td>\n",
       "      <td>21.165576</td>\n",
       "      <td>11.080615</td>\n",
       "      <td>12.798294</td>\n",
       "      <td>0.0</td>\n",
       "      <td>0.395609</td>\n",
       "      <td>0.751568</td>\n",
       "      <td>4.215694</td>\n",
       "      <td>2.008978</td>\n",
       "      <td>2.188068</td>\n",
       "    </tr>\n",
       "    <tr>\n",
       "      <th>7</th>\n",
       "      <td>SAP25</td>\n",
       "      <td>protein_coding</td>\n",
       "      <td>0.000000</td>\n",
       "      <td>7.201708</td>\n",
       "      <td>7.178799</td>\n",
       "      <td>0.0</td>\n",
       "      <td>0.000000</td>\n",
       "      <td>0.000000</td>\n",
       "      <td>8.870301</td>\n",
       "      <td>0.000000</td>\n",
       "      <td>0.000000</td>\n",
       "    </tr>\n",
       "    <tr>\n",
       "      <th>10</th>\n",
       "      <td>EYA1</td>\n",
       "      <td>protein_coding</td>\n",
       "      <td>0.000000</td>\n",
       "      <td>25.060854</td>\n",
       "      <td>0.000000</td>\n",
       "      <td>0.0</td>\n",
       "      <td>0.741551</td>\n",
       "      <td>0.000000</td>\n",
       "      <td>0.000000</td>\n",
       "      <td>0.318718</td>\n",
       "      <td>0.000000</td>\n",
       "    </tr>\n",
       "    <tr>\n",
       "      <th>11</th>\n",
       "      <td>CYP39A1</td>\n",
       "      <td>protein_coding</td>\n",
       "      <td>0.000000</td>\n",
       "      <td>0.528252</td>\n",
       "      <td>15.767867</td>\n",
       "      <td>0.0</td>\n",
       "      <td>0.000000</td>\n",
       "      <td>0.000000</td>\n",
       "      <td>0.000000</td>\n",
       "      <td>15.017370</td>\n",
       "      <td>0.000000</td>\n",
       "    </tr>\n",
       "  </tbody>\n",
       "</table>\n",
       "</div>"
      ],
      "text/plain": [
       "   Gene Symbol    gene_biotype        EPI        3_I       3_II  1_1_1  \\\n",
       "0      TBC1D3L  protein_coding   7.148288   0.000000  36.919539    0.0   \n",
       "4        DNAH5  protein_coding  21.165576  11.080615  12.798294    0.0   \n",
       "7        SAP25  protein_coding   0.000000   7.201708   7.178799    0.0   \n",
       "10        EYA1  protein_coding   0.000000  25.060854   0.000000    0.0   \n",
       "11     CYP39A1  protein_coding   0.000000   0.528252  15.767867    0.0   \n",
       "\n",
       "       1_1_2     1_1_3       2_I       2_II     2_III  \n",
       "0   0.000000  0.000000  0.000000   0.000000  0.000000  \n",
       "4   0.395609  0.751568  4.215694   2.008978  2.188068  \n",
       "7   0.000000  0.000000  8.870301   0.000000  0.000000  \n",
       "10  0.741551  0.000000  0.000000   0.318718  0.000000  \n",
       "11  0.000000  0.000000  0.000000  15.017370  0.000000  "
      ]
     },
     "execution_count": 324,
     "metadata": {},
     "output_type": "execute_result"
    }
   ],
   "source": [
    "m11_m12_epi.head()"
   ]
  },
  {
   "cell_type": "code",
   "execution_count": 357,
   "metadata": {
    "hidden": true
   },
   "outputs": [],
   "source": [
    "import scipy.stats as stats"
   ]
  },
  {
   "cell_type": "code",
   "execution_count": 348,
   "metadata": {
    "hidden": true
   },
   "outputs": [
    {
     "name": "stderr",
     "output_type": "stream",
     "text": [
      "/home/t.mazza/miniconda3/envs/playgrounds/lib/python3.7/site-packages/scipy/stats/stats.py:3709: F_onewayConstantInputWarning: Each of the input arrays is constant;the F statistic is not defined or infinite\n",
      "  warnings.warn(F_onewayConstantInputWarning())\n"
     ]
    },
    {
     "data": {
      "text/html": [
       "<div>\n",
       "<style scoped>\n",
       "    .dataframe tbody tr th:only-of-type {\n",
       "        vertical-align: middle;\n",
       "    }\n",
       "\n",
       "    .dataframe tbody tr th {\n",
       "        vertical-align: top;\n",
       "    }\n",
       "\n",
       "    .dataframe thead th {\n",
       "        text-align: right;\n",
       "    }\n",
       "</style>\n",
       "<table border=\"1\" class=\"dataframe\">\n",
       "  <thead>\n",
       "    <tr style=\"text-align: right;\">\n",
       "      <th></th>\n",
       "      <th>Gene Symbol</th>\n",
       "      <th>gene_biotype</th>\n",
       "      <th>EPI</th>\n",
       "      <th>3_I</th>\n",
       "      <th>3_II</th>\n",
       "      <th>1_1_1</th>\n",
       "      <th>1_1_2</th>\n",
       "      <th>1_1_3</th>\n",
       "      <th>2_I</th>\n",
       "      <th>2_II</th>\n",
       "      <th>2_III</th>\n",
       "      <th>fvalue</th>\n",
       "      <th>pvalue</th>\n",
       "      <th>adj_pvalue</th>\n",
       "    </tr>\n",
       "  </thead>\n",
       "  <tbody>\n",
       "    <tr>\n",
       "      <th>0</th>\n",
       "      <td>TBC1D3L</td>\n",
       "      <td>protein_coding</td>\n",
       "      <td>7.148288</td>\n",
       "      <td>0.000000</td>\n",
       "      <td>36.919539</td>\n",
       "      <td>0.0</td>\n",
       "      <td>0.000000</td>\n",
       "      <td>0.000000</td>\n",
       "      <td>0.000000</td>\n",
       "      <td>0.000000</td>\n",
       "      <td>0.000000</td>\n",
       "      <td>2.06819</td>\n",
       "      <td>0.196896</td>\n",
       "      <td>0.655542</td>\n",
       "    </tr>\n",
       "    <tr>\n",
       "      <th>4</th>\n",
       "      <td>DNAH5</td>\n",
       "      <td>protein_coding</td>\n",
       "      <td>21.165576</td>\n",
       "      <td>11.080615</td>\n",
       "      <td>12.798294</td>\n",
       "      <td>0.0</td>\n",
       "      <td>0.395609</td>\n",
       "      <td>0.751568</td>\n",
       "      <td>4.215694</td>\n",
       "      <td>2.008978</td>\n",
       "      <td>2.188068</td>\n",
       "      <td>21.1798</td>\n",
       "      <td>0.00107409</td>\n",
       "      <td>1</td>\n",
       "    </tr>\n",
       "    <tr>\n",
       "      <th>7</th>\n",
       "      <td>SAP25</td>\n",
       "      <td>protein_coding</td>\n",
       "      <td>0.000000</td>\n",
       "      <td>7.201708</td>\n",
       "      <td>7.178799</td>\n",
       "      <td>0.0</td>\n",
       "      <td>0.000000</td>\n",
       "      <td>0.000000</td>\n",
       "      <td>8.870301</td>\n",
       "      <td>0.000000</td>\n",
       "      <td>0.000000</td>\n",
       "      <td>1.29337</td>\n",
       "      <td>0.332655</td>\n",
       "      <td>0.732052</td>\n",
       "    </tr>\n",
       "    <tr>\n",
       "      <th>10</th>\n",
       "      <td>EYA1</td>\n",
       "      <td>protein_coding</td>\n",
       "      <td>0.000000</td>\n",
       "      <td>25.060854</td>\n",
       "      <td>0.000000</td>\n",
       "      <td>0.0</td>\n",
       "      <td>0.741551</td>\n",
       "      <td>0.000000</td>\n",
       "      <td>0.000000</td>\n",
       "      <td>0.318718</td>\n",
       "      <td>0.000000</td>\n",
       "      <td>1.18013</td>\n",
       "      <td>0.361688</td>\n",
       "      <td>0.705583</td>\n",
       "    </tr>\n",
       "    <tr>\n",
       "      <th>11</th>\n",
       "      <td>CYP39A1</td>\n",
       "      <td>protein_coding</td>\n",
       "      <td>0.000000</td>\n",
       "      <td>0.528252</td>\n",
       "      <td>15.767867</td>\n",
       "      <td>0.0</td>\n",
       "      <td>0.000000</td>\n",
       "      <td>0.000000</td>\n",
       "      <td>0.000000</td>\n",
       "      <td>15.017370</td>\n",
       "      <td>0.000000</td>\n",
       "      <td>0.49759</td>\n",
       "      <td>0.627978</td>\n",
       "      <td>0.826801</td>\n",
       "    </tr>\n",
       "  </tbody>\n",
       "</table>\n",
       "</div>"
      ],
      "text/plain": [
       "   Gene Symbol    gene_biotype        EPI        3_I       3_II  1_1_1  \\\n",
       "0      TBC1D3L  protein_coding   7.148288   0.000000  36.919539    0.0   \n",
       "4        DNAH5  protein_coding  21.165576  11.080615  12.798294    0.0   \n",
       "7        SAP25  protein_coding   0.000000   7.201708   7.178799    0.0   \n",
       "10        EYA1  protein_coding   0.000000  25.060854   0.000000    0.0   \n",
       "11     CYP39A1  protein_coding   0.000000   0.528252  15.767867    0.0   \n",
       "\n",
       "       1_1_2     1_1_3       2_I       2_II     2_III   fvalue      pvalue  \\\n",
       "0   0.000000  0.000000  0.000000   0.000000  0.000000  2.06819    0.196896   \n",
       "4   0.395609  0.751568  4.215694   2.008978  2.188068  21.1798  0.00107409   \n",
       "7   0.000000  0.000000  8.870301   0.000000  0.000000  1.29337    0.332655   \n",
       "10  0.741551  0.000000  0.000000   0.318718  0.000000  1.18013    0.361688   \n",
       "11  0.000000  0.000000  0.000000  15.017370  0.000000  0.49759    0.627978   \n",
       "\n",
       "   adj_pvalue  \n",
       "0    0.655542  \n",
       "4           1  \n",
       "7    0.732052  \n",
       "10   0.705583  \n",
       "11   0.826801  "
      ]
     },
     "execution_count": 348,
     "metadata": {},
     "output_type": "execute_result"
    }
   ],
   "source": [
    "temp = pd.DataFrame(index = m11_m12_epi.index, columns = ['fvalue', 'pvalue'])\n",
    "for idx, row in m11_m12_epi.iterrows():\n",
    "    temp.at[idx,'fvalue'], temp.at[idx,'pvalue'] = stats.f_oneway(row[2:5], row[5:8], row[7:11])\n",
    "    \n",
    "m11_m12_epi_anova = pd.concat([m11_m12_epi, temp], axis=1)\n",
    "m11_m12_epi_anova[['adj_pvalue']] = macroH2A_IPS_NAR_2021_workers.fdr(m11_m12_epi_anova['pvalue'])\n",
    "m11_m12_epi_anova.head()"
   ]
  },
  {
   "cell_type": "markdown",
   "metadata": {
    "hidden": true
   },
   "source": [
    "## Print data for Heatmap"
   ]
  },
  {
   "cell_type": "code",
   "execution_count": 365,
   "metadata": {
    "hidden": true
   },
   "outputs": [],
   "source": [
    "temp4hm = m11_m12_epi_anova[m11_m12_epi_anova['pvalue']<= 0.05]\n",
    "temp4hm = temp4hm.drop(['gene_biotype', 'fvalue', 'pvalue', 'adj_pvalue'], axis=1)\n",
    "temp4hm.head()\n",
    "\n",
    "temp4hm.to_csv(\"m11_m12_epi_4hm.txt\", sep=\"\\t\", header=True, index=False)"
   ]
  },
  {
   "cell_type": "markdown",
   "metadata": {
    "hidden": true
   },
   "source": [
    "## Compute ANOVA among all conditions (m11, m12, episome)"
   ]
  },
  {
   "cell_type": "code",
   "execution_count": 349,
   "metadata": {
    "hidden": true
   },
   "outputs": [
    {
     "name": "stderr",
     "output_type": "stream",
     "text": [
      "/home/t.mazza/miniconda3/envs/playgrounds/lib/python3.7/site-packages/scipy/stats/stats.py:3709: F_onewayConstantInputWarning: Each of the input arrays is constant;the F statistic is not defined or infinite\n",
      "  warnings.warn(F_onewayConstantInputWarning())\n"
     ]
    },
    {
     "data": {
      "text/html": [
       "<div>\n",
       "<style scoped>\n",
       "    .dataframe tbody tr th:only-of-type {\n",
       "        vertical-align: middle;\n",
       "    }\n",
       "\n",
       "    .dataframe tbody tr th {\n",
       "        vertical-align: top;\n",
       "    }\n",
       "\n",
       "    .dataframe thead th {\n",
       "        text-align: right;\n",
       "    }\n",
       "</style>\n",
       "<table border=\"1\" class=\"dataframe\">\n",
       "  <thead>\n",
       "    <tr style=\"text-align: right;\">\n",
       "      <th></th>\n",
       "      <th>Gene Symbol</th>\n",
       "      <th>gene_biotype</th>\n",
       "      <th>1_1_1</th>\n",
       "      <th>1_1_2</th>\n",
       "      <th>1_1_3</th>\n",
       "      <th>2_I</th>\n",
       "      <th>2_II</th>\n",
       "      <th>2_III</th>\n",
       "      <th>HU-1</th>\n",
       "      <th>HU-2</th>\n",
       "      <th>HU-3</th>\n",
       "      <th>fvalue</th>\n",
       "      <th>pvalue</th>\n",
       "      <th>adj_pvalue</th>\n",
       "    </tr>\n",
       "  </thead>\n",
       "  <tbody>\n",
       "    <tr>\n",
       "      <th>0</th>\n",
       "      <td>DLL4</td>\n",
       "      <td>protein_coding</td>\n",
       "      <td>1.967663</td>\n",
       "      <td>0.000000</td>\n",
       "      <td>0.000000</td>\n",
       "      <td>4.888776</td>\n",
       "      <td>3.875864</td>\n",
       "      <td>1.055344</td>\n",
       "      <td>171.317048</td>\n",
       "      <td>159.895481</td>\n",
       "      <td>131.157147</td>\n",
       "      <td>5.91105</td>\n",
       "      <td>0.0313693</td>\n",
       "      <td>0.140032</td>\n",
       "    </tr>\n",
       "    <tr>\n",
       "      <th>1</th>\n",
       "      <td>A2M</td>\n",
       "      <td>protein_coding</td>\n",
       "      <td>0.000000</td>\n",
       "      <td>0.000000</td>\n",
       "      <td>0.000000</td>\n",
       "      <td>0.000000</td>\n",
       "      <td>0.000000</td>\n",
       "      <td>0.000000</td>\n",
       "      <td>50.713592</td>\n",
       "      <td>42.028808</td>\n",
       "      <td>35.046734</td>\n",
       "      <td>5.77696</td>\n",
       "      <td>0.0329851</td>\n",
       "      <td>0.144026</td>\n",
       "    </tr>\n",
       "    <tr>\n",
       "      <th>2</th>\n",
       "      <td>FABP4</td>\n",
       "      <td>protein_coding</td>\n",
       "      <td>8.925116</td>\n",
       "      <td>5.769943</td>\n",
       "      <td>4.567326</td>\n",
       "      <td>10.841104</td>\n",
       "      <td>24.417390</td>\n",
       "      <td>22.339012</td>\n",
       "      <td>1600.273607</td>\n",
       "      <td>1421.770685</td>\n",
       "      <td>1531.110873</td>\n",
       "      <td>6.34627</td>\n",
       "      <td>0.0267785</td>\n",
       "      <td>0.131111</td>\n",
       "    </tr>\n",
       "    <tr>\n",
       "      <th>3</th>\n",
       "      <td>CXCR4</td>\n",
       "      <td>protein_coding</td>\n",
       "      <td>0.991714</td>\n",
       "      <td>8.655214</td>\n",
       "      <td>8.221472</td>\n",
       "      <td>16.755013</td>\n",
       "      <td>102.556588</td>\n",
       "      <td>37.232976</td>\n",
       "      <td>1526.319178</td>\n",
       "      <td>1319.388751</td>\n",
       "      <td>1293.156542</td>\n",
       "      <td>6.24151</td>\n",
       "      <td>0.0278001</td>\n",
       "      <td>0.132937</td>\n",
       "    </tr>\n",
       "    <tr>\n",
       "      <th>4</th>\n",
       "      <td>IL33</td>\n",
       "      <td>protein_coding</td>\n",
       "      <td>1.917317</td>\n",
       "      <td>4.845609</td>\n",
       "      <td>0.883048</td>\n",
       "      <td>0.952738</td>\n",
       "      <td>11.779960</td>\n",
       "      <td>0.000000</td>\n",
       "      <td>422.037827</td>\n",
       "      <td>405.282691</td>\n",
       "      <td>365.291858</td>\n",
       "      <td>6.0656</td>\n",
       "      <td>0.029631</td>\n",
       "      <td>0.136465</td>\n",
       "    </tr>\n",
       "  </tbody>\n",
       "</table>\n",
       "</div>"
      ],
      "text/plain": [
       "  Gene Symbol    gene_biotype     1_1_1     1_1_2     1_1_3        2_I  \\\n",
       "0        DLL4  protein_coding  1.967663  0.000000  0.000000   4.888776   \n",
       "1         A2M  protein_coding  0.000000  0.000000  0.000000   0.000000   \n",
       "2       FABP4  protein_coding  8.925116  5.769943  4.567326  10.841104   \n",
       "3       CXCR4  protein_coding  0.991714  8.655214  8.221472  16.755013   \n",
       "4        IL33  protein_coding  1.917317  4.845609  0.883048   0.952738   \n",
       "\n",
       "         2_II      2_III         HU-1         HU-2         HU-3   fvalue  \\\n",
       "0    3.875864   1.055344   171.317048   159.895481   131.157147  5.91105   \n",
       "1    0.000000   0.000000    50.713592    42.028808    35.046734  5.77696   \n",
       "2   24.417390  22.339012  1600.273607  1421.770685  1531.110873  6.34627   \n",
       "3  102.556588  37.232976  1526.319178  1319.388751  1293.156542  6.24151   \n",
       "4   11.779960   0.000000   422.037827   405.282691   365.291858   6.0656   \n",
       "\n",
       "      pvalue adj_pvalue  \n",
       "0  0.0313693   0.140032  \n",
       "1  0.0329851   0.144026  \n",
       "2  0.0267785   0.131111  \n",
       "3  0.0278001   0.132937  \n",
       "4   0.029631   0.136465  "
      ]
     },
     "execution_count": 349,
     "metadata": {},
     "output_type": "execute_result"
    }
   ],
   "source": [
    "temp = pd.DataFrame(index = m11_m12_huv.index, columns = ['fvalue', 'pvalue'])\n",
    "for idx, row in m11_m12_huv.iterrows():\n",
    "    temp.at[idx,'fvalue'], temp.at[idx,'pvalue'] = stats.f_oneway(row[2:5], row[5:8], row[7:11])\n",
    "    \n",
    "m11_m12_huv_anova = pd.concat([m11_m12_huv, temp], axis=1)\n",
    "m11_m12_huv_anova[['adj_pvalue']] = macroH2A_IPS_NAR_2021_workers.fdr(m11_m12_huv_anova['pvalue'])\n",
    "del temp\n",
    "m11_m12_huv_anova.head()\n"
   ]
  },
  {
   "cell_type": "markdown",
   "metadata": {
    "hidden": true
   },
   "source": [
    "## Compute ANOVA among all conditions (m11, m12, HUVEC)"
   ]
  },
  {
   "cell_type": "code",
   "execution_count": 366,
   "metadata": {
    "hidden": true
   },
   "outputs": [],
   "source": [
    "temp4hm = m11_m12_huv_anova[m11_m12_huv_anova['adj_pvalue']<= 0.05]\n",
    "temp4hm = temp4hm.drop(['gene_biotype', 'fvalue', 'pvalue', 'adj_pvalue'], axis=1)\n",
    "temp4hm.head()\n",
    "\n",
    "temp4hm.to_csv(\"m11_m12_huv_4hm.txt\", sep=\"\\t\", header=True, index=False)\n",
    "del temp4hm"
   ]
  },
  {
   "cell_type": "markdown",
   "metadata": {},
   "source": [
    "# Print system and required packages information"
   ]
  },
  {
   "cell_type": "code",
   "execution_count": 6,
   "metadata": {},
   "outputs": [
    {
     "name": "stdout",
     "output_type": "stream",
     "text": [
      "CPython 3.7.6\n",
      "IPython 7.12.0\n",
      "\n",
      "numpy 1.18.1\n",
      "pandas 1.1.4\n",
      "matplotlib 3.1.3\n",
      "sklearn 0.24.0\n",
      "traitlets 4.3.3\n",
      "IPython 7.12.0\n",
      "ipywidgets 7.5.1\n",
      "openpyxl 3.0.3\n",
      "pyntacle 1.3.2\n",
      "\n",
      "compiler   : MSC v.1916 64 bit (AMD64)\n",
      "system     : Windows\n",
      "release    : 10\n",
      "machine    : AMD64\n",
      "processor  : Intel64 Family 6 Model 60 Stepping 3, GenuineIntel\n",
      "CPU cores  : 8\n",
      "interpreter: 64bit\n",
      " \n",
      "last updated: Mon Mar 08 2021 17:36:33 W. Europe Standard Time\n"
     ]
    }
   ],
   "source": [
    "%load_ext watermark\n",
    "%watermark -v -m -p numpy,pandas,matplotlib,sklearn,traitlets,IPython,ipywidgets,openpyxl,pyntacle\n",
    "\n",
    "# date\n",
    "print(\" \")\n",
    "%watermark -u -n -t -z"
   ]
  },
  {
   "cell_type": "code",
   "execution_count": null,
   "metadata": {},
   "outputs": [],
   "source": []
  }
 ],
 "metadata": {
  "kernelspec": {
   "display_name": "Python 3",
   "language": "python",
   "name": "python3"
  },
  "language_info": {
   "codemirror_mode": {
    "name": "ipython",
    "version": 3
   },
   "file_extension": ".py",
   "mimetype": "text/x-python",
   "name": "python",
   "nbconvert_exporter": "python",
   "pygments_lexer": "ipython3",
   "version": "3.7.6"
  }
 },
 "nbformat": 4,
 "nbformat_minor": 4
}
